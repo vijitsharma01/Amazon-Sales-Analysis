{
 "cells": [
  {
   "cell_type": "code",
   "execution_count": 3,
   "id": "2fd13636-0363-4fd7-afcb-13ba195b3680",
   "metadata": {},
   "outputs": [],
   "source": [
    "import numpy as np\n",
    "import pandas as pd\n",
    "import seaborn as sns\n",
    "import matplotlib.pyplot as plt\n"
   ]
  },
  {
   "cell_type": "code",
   "execution_count": 5,
   "id": "590c6068-2fa0-469e-b186-5af5fbca8db0",
   "metadata": {},
   "outputs": [],
   "source": [
    "import sqlite3"
   ]
  },
  {
   "cell_type": "code",
   "execution_count": 7,
   "id": "5a4a45bf-76f4-48ab-9279-5ebb36279da9",
   "metadata": {},
   "outputs": [],
   "source": [
    "con = sqlite3.connect(r'/Users/karishmagupta/Downloads/database.sqlite')"
   ]
  },
  {
   "cell_type": "code",
   "execution_count": 8,
   "id": "fca35c91-527b-40b1-a135-7a8b2b7a9e9e",
   "metadata": {},
   "outputs": [
    {
     "data": {
      "text/plain": [
       "sqlite3.Connection"
      ]
     },
     "execution_count": 8,
     "metadata": {},
     "output_type": "execute_result"
    }
   ],
   "source": [
    "type(con)"
   ]
  },
  {
   "cell_type": "code",
   "execution_count": 9,
   "id": "7993a3bb-0021-48f8-8f0e-756606024ce6",
   "metadata": {},
   "outputs": [],
   "source": [
    "df= pd.read_sql_query(\"SELECT * FROM REVIEWS\", con)"
   ]
  },
  {
   "cell_type": "code",
   "execution_count": 14,
   "id": "92578e67-15a3-46f0-9a05-9b1357556040",
   "metadata": {},
   "outputs": [
    {
     "data": {
      "text/plain": [
       "(568454, 10)"
      ]
     },
     "execution_count": 14,
     "metadata": {},
     "output_type": "execute_result"
    }
   ],
   "source": [
    "df.shape"
   ]
  },
  {
   "cell_type": "code",
   "execution_count": 11,
   "id": "4e7bacfd-ad72-4a6c-a835-3409274f1ffd",
   "metadata": {},
   "outputs": [
    {
     "data": {
      "text/html": [
       "<div>\n",
       "<style scoped>\n",
       "    .dataframe tbody tr th:only-of-type {\n",
       "        vertical-align: middle;\n",
       "    }\n",
       "\n",
       "    .dataframe tbody tr th {\n",
       "        vertical-align: top;\n",
       "    }\n",
       "\n",
       "    .dataframe thead th {\n",
       "        text-align: right;\n",
       "    }\n",
       "</style>\n",
       "<table border=\"1\" class=\"dataframe\">\n",
       "  <thead>\n",
       "    <tr style=\"text-align: right;\">\n",
       "      <th></th>\n",
       "      <th>Id</th>\n",
       "      <th>ProductId</th>\n",
       "      <th>UserId</th>\n",
       "      <th>ProfileName</th>\n",
       "      <th>HelpfulnessNumerator</th>\n",
       "      <th>HelpfulnessDenominator</th>\n",
       "      <th>Score</th>\n",
       "      <th>Time</th>\n",
       "      <th>Summary</th>\n",
       "      <th>Text</th>\n",
       "    </tr>\n",
       "  </thead>\n",
       "  <tbody>\n",
       "    <tr>\n",
       "      <th>0</th>\n",
       "      <td>1</td>\n",
       "      <td>B001E4KFG0</td>\n",
       "      <td>A3SGXH7AUHU8GW</td>\n",
       "      <td>delmartian</td>\n",
       "      <td>1</td>\n",
       "      <td>1</td>\n",
       "      <td>5</td>\n",
       "      <td>1303862400</td>\n",
       "      <td>Good Quality Dog Food</td>\n",
       "      <td>I have bought several of the Vitality canned d...</td>\n",
       "    </tr>\n",
       "    <tr>\n",
       "      <th>1</th>\n",
       "      <td>2</td>\n",
       "      <td>B00813GRG4</td>\n",
       "      <td>A1D87F6ZCVE5NK</td>\n",
       "      <td>dll pa</td>\n",
       "      <td>0</td>\n",
       "      <td>0</td>\n",
       "      <td>1</td>\n",
       "      <td>1346976000</td>\n",
       "      <td>Not as Advertised</td>\n",
       "      <td>Product arrived labeled as Jumbo Salted Peanut...</td>\n",
       "    </tr>\n",
       "    <tr>\n",
       "      <th>2</th>\n",
       "      <td>3</td>\n",
       "      <td>B000LQOCH0</td>\n",
       "      <td>ABXLMWJIXXAIN</td>\n",
       "      <td>Natalia Corres \"Natalia Corres\"</td>\n",
       "      <td>1</td>\n",
       "      <td>1</td>\n",
       "      <td>4</td>\n",
       "      <td>1219017600</td>\n",
       "      <td>\"Delight\" says it all</td>\n",
       "      <td>This is a confection that has been around a fe...</td>\n",
       "    </tr>\n",
       "    <tr>\n",
       "      <th>3</th>\n",
       "      <td>4</td>\n",
       "      <td>B000UA0QIQ</td>\n",
       "      <td>A395BORC6FGVXV</td>\n",
       "      <td>Karl</td>\n",
       "      <td>3</td>\n",
       "      <td>3</td>\n",
       "      <td>2</td>\n",
       "      <td>1307923200</td>\n",
       "      <td>Cough Medicine</td>\n",
       "      <td>If you are looking for the secret ingredient i...</td>\n",
       "    </tr>\n",
       "  </tbody>\n",
       "</table>\n",
       "</div>"
      ],
      "text/plain": [
       "   Id   ProductId          UserId                      ProfileName  \\\n",
       "0   1  B001E4KFG0  A3SGXH7AUHU8GW                       delmartian   \n",
       "1   2  B00813GRG4  A1D87F6ZCVE5NK                           dll pa   \n",
       "2   3  B000LQOCH0   ABXLMWJIXXAIN  Natalia Corres \"Natalia Corres\"   \n",
       "3   4  B000UA0QIQ  A395BORC6FGVXV                             Karl   \n",
       "\n",
       "   HelpfulnessNumerator  HelpfulnessDenominator  Score        Time  \\\n",
       "0                     1                       1      5  1303862400   \n",
       "1                     0                       0      1  1346976000   \n",
       "2                     1                       1      4  1219017600   \n",
       "3                     3                       3      2  1307923200   \n",
       "\n",
       "                 Summary                                               Text  \n",
       "0  Good Quality Dog Food  I have bought several of the Vitality canned d...  \n",
       "1      Not as Advertised  Product arrived labeled as Jumbo Salted Peanut...  \n",
       "2  \"Delight\" says it all  This is a confection that has been around a fe...  \n",
       "3         Cough Medicine  If you are looking for the secret ingredient i...  "
      ]
     },
     "execution_count": 11,
     "metadata": {},
     "output_type": "execute_result"
    }
   ],
   "source": [
    "df.head(4)"
   ]
  },
  {
   "cell_type": "code",
   "execution_count": 18,
   "id": "c1b03c10-b519-4222-a198-da4db01b0532",
   "metadata": {},
   "outputs": [
    {
     "data": {
      "text/plain": [
       "Index(['Id', 'ProductId', 'UserId', 'ProfileName', 'HelpfulnessNumerator',\n",
       "       'HelpfulnessDenominator', 'Score', 'Time', 'Summary', 'Text'],\n",
       "      dtype='object')"
      ]
     },
     "execution_count": 18,
     "metadata": {},
     "output_type": "execute_result"
    }
   ],
   "source": [
    "df.columns"
   ]
  },
  {
   "cell_type": "code",
   "execution_count": 26,
   "id": "69210d8d-444a-4ccc-9999-175cdf138bd6",
   "metadata": {},
   "outputs": [
    {
     "data": {
      "text/plain": [
       "0         False\n",
       "1         False\n",
       "2         False\n",
       "3         False\n",
       "4         False\n",
       "          ...  \n",
       "568449    False\n",
       "568450    False\n",
       "568451    False\n",
       "568452    False\n",
       "568453    False\n",
       "Length: 568454, dtype: bool"
      ]
     },
     "execution_count": 26,
     "metadata": {},
     "output_type": "execute_result"
    }
   ],
   "source": [
    "df['HelpfulnessNumerator'] > df['HelpfulnessDenominator']  #invalid"
   ]
  },
  {
   "cell_type": "code",
   "execution_count": 28,
   "id": "4149f475-e20b-416c-95d6-c6792ba3c690",
   "metadata": {},
   "outputs": [
    {
     "data": {
      "text/html": [
       "<div>\n",
       "<style scoped>\n",
       "    .dataframe tbody tr th:only-of-type {\n",
       "        vertical-align: middle;\n",
       "    }\n",
       "\n",
       "    .dataframe tbody tr th {\n",
       "        vertical-align: top;\n",
       "    }\n",
       "\n",
       "    .dataframe thead th {\n",
       "        text-align: right;\n",
       "    }\n",
       "</style>\n",
       "<table border=\"1\" class=\"dataframe\">\n",
       "  <thead>\n",
       "    <tr style=\"text-align: right;\">\n",
       "      <th></th>\n",
       "      <th>Id</th>\n",
       "      <th>ProductId</th>\n",
       "      <th>UserId</th>\n",
       "      <th>ProfileName</th>\n",
       "      <th>HelpfulnessNumerator</th>\n",
       "      <th>HelpfulnessDenominator</th>\n",
       "      <th>Score</th>\n",
       "      <th>Time</th>\n",
       "      <th>Summary</th>\n",
       "      <th>Text</th>\n",
       "    </tr>\n",
       "  </thead>\n",
       "  <tbody>\n",
       "    <tr>\n",
       "      <th>44736</th>\n",
       "      <td>44737</td>\n",
       "      <td>B001EQ55RW</td>\n",
       "      <td>A2V0I904FH7ABY</td>\n",
       "      <td>Ram</td>\n",
       "      <td>3</td>\n",
       "      <td>2</td>\n",
       "      <td>4</td>\n",
       "      <td>1212883200</td>\n",
       "      <td>Pure cocoa taste with crunchy almonds inside</td>\n",
       "      <td>It was almost a 'love at first bite' - the per...</td>\n",
       "    </tr>\n",
       "    <tr>\n",
       "      <th>64421</th>\n",
       "      <td>64422</td>\n",
       "      <td>B000MIDROQ</td>\n",
       "      <td>A161DK06JJMCYF</td>\n",
       "      <td>J. E. Stephens \"Jeanne\"</td>\n",
       "      <td>3</td>\n",
       "      <td>1</td>\n",
       "      <td>5</td>\n",
       "      <td>1224892800</td>\n",
       "      <td>Bought This for My Son at College</td>\n",
       "      <td>My son loves spaghetti so I didn't hesitate or...</td>\n",
       "    </tr>\n",
       "  </tbody>\n",
       "</table>\n",
       "</div>"
      ],
      "text/plain": [
       "          Id   ProductId          UserId              ProfileName  \\\n",
       "44736  44737  B001EQ55RW  A2V0I904FH7ABY                      Ram   \n",
       "64421  64422  B000MIDROQ  A161DK06JJMCYF  J. E. Stephens \"Jeanne\"   \n",
       "\n",
       "       HelpfulnessNumerator  HelpfulnessDenominator  Score        Time  \\\n",
       "44736                     3                       2      4  1212883200   \n",
       "64421                     3                       1      5  1224892800   \n",
       "\n",
       "                                            Summary  \\\n",
       "44736  Pure cocoa taste with crunchy almonds inside   \n",
       "64421             Bought This for My Son at College   \n",
       "\n",
       "                                                    Text  \n",
       "44736  It was almost a 'love at first bite' - the per...  \n",
       "64421  My son loves spaghetti so I didn't hesitate or...  "
      ]
     },
     "execution_count": 28,
     "metadata": {},
     "output_type": "execute_result"
    }
   ],
   "source": [
    "df[df['HelpfulnessNumerator'] > df['HelpfulnessDenominator']]"
   ]
  },
  {
   "cell_type": "code",
   "execution_count": 13,
   "id": "5380d54e-30b5-4010-bc1b-cf84288ebe42",
   "metadata": {},
   "outputs": [],
   "source": [
    "df_valid = df[df['HelpfulnessNumerator'] < df['HelpfulnessDenominator']]"
   ]
  },
  {
   "cell_type": "code",
   "execution_count": 15,
   "id": "7db23d1d-3a26-4cbd-be11-8e5f737503fa",
   "metadata": {},
   "outputs": [
    {
     "data": {
      "text/html": [
       "<div>\n",
       "<style scoped>\n",
       "    .dataframe tbody tr th:only-of-type {\n",
       "        vertical-align: middle;\n",
       "    }\n",
       "\n",
       "    .dataframe tbody tr th {\n",
       "        vertical-align: top;\n",
       "    }\n",
       "\n",
       "    .dataframe thead th {\n",
       "        text-align: right;\n",
       "    }\n",
       "</style>\n",
       "<table border=\"1\" class=\"dataframe\">\n",
       "  <thead>\n",
       "    <tr style=\"text-align: right;\">\n",
       "      <th></th>\n",
       "      <th>Id</th>\n",
       "      <th>ProductId</th>\n",
       "      <th>UserId</th>\n",
       "      <th>ProfileName</th>\n",
       "      <th>HelpfulnessNumerator</th>\n",
       "      <th>HelpfulnessDenominator</th>\n",
       "      <th>Score</th>\n",
       "      <th>Time</th>\n",
       "      <th>Summary</th>\n",
       "      <th>Text</th>\n",
       "    </tr>\n",
       "  </thead>\n",
       "  <tbody>\n",
       "    <tr>\n",
       "      <th>14</th>\n",
       "      <td>15</td>\n",
       "      <td>B001GVISJM</td>\n",
       "      <td>A2MUGFV2TDQ47K</td>\n",
       "      <td>Lynrie \"Oh HELL no\"</td>\n",
       "      <td>4</td>\n",
       "      <td>5</td>\n",
       "      <td>5</td>\n",
       "      <td>1268352000</td>\n",
       "      <td>Strawberry Twizzlers - Yummy</td>\n",
       "      <td>The Strawberry Twizzlers are my guilty pleasur...</td>\n",
       "    </tr>\n",
       "    <tr>\n",
       "      <th>15</th>\n",
       "      <td>16</td>\n",
       "      <td>B001GVISJM</td>\n",
       "      <td>A1CZX3CP8IKQIJ</td>\n",
       "      <td>Brian A. Lee</td>\n",
       "      <td>4</td>\n",
       "      <td>5</td>\n",
       "      <td>5</td>\n",
       "      <td>1262044800</td>\n",
       "      <td>Lots of twizzlers, just what you expect.</td>\n",
       "      <td>My daughter loves twizzlers and this shipment ...</td>\n",
       "    </tr>\n",
       "    <tr>\n",
       "      <th>26</th>\n",
       "      <td>27</td>\n",
       "      <td>B001GVISJM</td>\n",
       "      <td>A3RXAU2N8KV45G</td>\n",
       "      <td>lady21</td>\n",
       "      <td>0</td>\n",
       "      <td>1</td>\n",
       "      <td>1</td>\n",
       "      <td>1332633600</td>\n",
       "      <td>Nasty No flavor</td>\n",
       "      <td>The candy is just red , No flavor . Just  plan...</td>\n",
       "    </tr>\n",
       "    <tr>\n",
       "      <th>27</th>\n",
       "      <td>28</td>\n",
       "      <td>B001GVISJM</td>\n",
       "      <td>AAAS38B98HMIK</td>\n",
       "      <td>Heather Dube</td>\n",
       "      <td>0</td>\n",
       "      <td>1</td>\n",
       "      <td>4</td>\n",
       "      <td>1331856000</td>\n",
       "      <td>Great Bargain for the Price</td>\n",
       "      <td>I was so glad Amazon carried these batteries. ...</td>\n",
       "    </tr>\n",
       "    <tr>\n",
       "      <th>31</th>\n",
       "      <td>32</td>\n",
       "      <td>B003F6UO7K</td>\n",
       "      <td>A31OQO709M20Y7</td>\n",
       "      <td>Molly V. Smith \"staral\"</td>\n",
       "      <td>0</td>\n",
       "      <td>1</td>\n",
       "      <td>5</td>\n",
       "      <td>1288310400</td>\n",
       "      <td>THIS IS MY TASTE...</td>\n",
       "      <td>This offer is a great price and a great taste,...</td>\n",
       "    </tr>\n",
       "    <tr>\n",
       "      <th>...</th>\n",
       "      <td>...</td>\n",
       "      <td>...</td>\n",
       "      <td>...</td>\n",
       "      <td>...</td>\n",
       "      <td>...</td>\n",
       "      <td>...</td>\n",
       "      <td>...</td>\n",
       "      <td>...</td>\n",
       "      <td>...</td>\n",
       "      <td>...</td>\n",
       "    </tr>\n",
       "    <tr>\n",
       "      <th>568405</th>\n",
       "      <td>568406</td>\n",
       "      <td>B000P56I7Y</td>\n",
       "      <td>A2ZKNGL20FBK2I</td>\n",
       "      <td>Shatzi Crabtree</td>\n",
       "      <td>3</td>\n",
       "      <td>5</td>\n",
       "      <td>5</td>\n",
       "      <td>1274918400</td>\n",
       "      <td>Arrived Fine</td>\n",
       "      <td>The product arrived pretty quickly and was eas...</td>\n",
       "    </tr>\n",
       "    <tr>\n",
       "      <th>568413</th>\n",
       "      <td>568414</td>\n",
       "      <td>B0018CLWM4</td>\n",
       "      <td>AI3Y26HLPYW4L</td>\n",
       "      <td>kimosabe</td>\n",
       "      <td>1</td>\n",
       "      <td>2</td>\n",
       "      <td>2</td>\n",
       "      <td>1330041600</td>\n",
       "      <td>premium edge cat food</td>\n",
       "      <td>My cats don't like it. what else can I say to ...</td>\n",
       "    </tr>\n",
       "    <tr>\n",
       "      <th>568417</th>\n",
       "      <td>568418</td>\n",
       "      <td>B0000D16IP</td>\n",
       "      <td>A1SOL9F0I9D3A4</td>\n",
       "      <td>William M. Jacobs</td>\n",
       "      <td>2</td>\n",
       "      <td>4</td>\n",
       "      <td>4</td>\n",
       "      <td>1257897600</td>\n",
       "      <td>Great</td>\n",
       "      <td>This is the best brand of Mango Chutney that I...</td>\n",
       "    </tr>\n",
       "    <tr>\n",
       "      <th>568435</th>\n",
       "      <td>568436</td>\n",
       "      <td>B003XUL27E</td>\n",
       "      <td>A2PSB4WQHH46HN</td>\n",
       "      <td>carlyowu</td>\n",
       "      <td>0</td>\n",
       "      <td>2</td>\n",
       "      <td>2</td>\n",
       "      <td>1285718400</td>\n",
       "      <td>Where's the tortellini?</td>\n",
       "      <td>It is mostly broth, with the advertised 3/4 cu...</td>\n",
       "    </tr>\n",
       "    <tr>\n",
       "      <th>568439</th>\n",
       "      <td>568440</td>\n",
       "      <td>B000NY4SAG</td>\n",
       "      <td>A34GDV49ZZQKXG</td>\n",
       "      <td>Donald M. Cook</td>\n",
       "      <td>0</td>\n",
       "      <td>5</td>\n",
       "      <td>4</td>\n",
       "      <td>1280102400</td>\n",
       "      <td>a-ok</td>\n",
       "      <td>We need this for a recipe my wife is intereste...</td>\n",
       "    </tr>\n",
       "  </tbody>\n",
       "</table>\n",
       "<p>115091 rows × 10 columns</p>\n",
       "</div>"
      ],
      "text/plain": [
       "            Id   ProductId          UserId              ProfileName  \\\n",
       "14          15  B001GVISJM  A2MUGFV2TDQ47K      Lynrie \"Oh HELL no\"   \n",
       "15          16  B001GVISJM  A1CZX3CP8IKQIJ             Brian A. Lee   \n",
       "26          27  B001GVISJM  A3RXAU2N8KV45G                   lady21   \n",
       "27          28  B001GVISJM   AAAS38B98HMIK             Heather Dube   \n",
       "31          32  B003F6UO7K  A31OQO709M20Y7  Molly V. Smith \"staral\"   \n",
       "...        ...         ...             ...                      ...   \n",
       "568405  568406  B000P56I7Y  A2ZKNGL20FBK2I          Shatzi Crabtree   \n",
       "568413  568414  B0018CLWM4   AI3Y26HLPYW4L                 kimosabe   \n",
       "568417  568418  B0000D16IP  A1SOL9F0I9D3A4        William M. Jacobs   \n",
       "568435  568436  B003XUL27E  A2PSB4WQHH46HN                 carlyowu   \n",
       "568439  568440  B000NY4SAG  A34GDV49ZZQKXG           Donald M. Cook   \n",
       "\n",
       "        HelpfulnessNumerator  HelpfulnessDenominator  Score        Time  \\\n",
       "14                         4                       5      5  1268352000   \n",
       "15                         4                       5      5  1262044800   \n",
       "26                         0                       1      1  1332633600   \n",
       "27                         0                       1      4  1331856000   \n",
       "31                         0                       1      5  1288310400   \n",
       "...                      ...                     ...    ...         ...   \n",
       "568405                     3                       5      5  1274918400   \n",
       "568413                     1                       2      2  1330041600   \n",
       "568417                     2                       4      4  1257897600   \n",
       "568435                     0                       2      2  1285718400   \n",
       "568439                     0                       5      4  1280102400   \n",
       "\n",
       "                                         Summary  \\\n",
       "14                  Strawberry Twizzlers - Yummy   \n",
       "15      Lots of twizzlers, just what you expect.   \n",
       "26                               Nasty No flavor   \n",
       "27                   Great Bargain for the Price   \n",
       "31                           THIS IS MY TASTE...   \n",
       "...                                          ...   \n",
       "568405                              Arrived Fine   \n",
       "568413                     premium edge cat food   \n",
       "568417                                     Great   \n",
       "568435                   Where's the tortellini?   \n",
       "568439                                      a-ok   \n",
       "\n",
       "                                                     Text  \n",
       "14      The Strawberry Twizzlers are my guilty pleasur...  \n",
       "15      My daughter loves twizzlers and this shipment ...  \n",
       "26      The candy is just red , No flavor . Just  plan...  \n",
       "27      I was so glad Amazon carried these batteries. ...  \n",
       "31      This offer is a great price and a great taste,...  \n",
       "...                                                   ...  \n",
       "568405  The product arrived pretty quickly and was eas...  \n",
       "568413  My cats don't like it. what else can I say to ...  \n",
       "568417  This is the best brand of Mango Chutney that I...  \n",
       "568435  It is mostly broth, with the advertised 3/4 cu...  \n",
       "568439  We need this for a recipe my wife is intereste...  \n",
       "\n",
       "[115091 rows x 10 columns]"
      ]
     },
     "execution_count": 15,
     "metadata": {},
     "output_type": "execute_result"
    }
   ],
   "source": [
    "df_valid"
   ]
  },
  {
   "cell_type": "code",
   "execution_count": 38,
   "id": "00d58c8e-95c2-4e3b-92e8-d197fa1fcb23",
   "metadata": {},
   "outputs": [
    {
     "data": {
      "text/plain": [
       "14        False\n",
       "15        False\n",
       "26        False\n",
       "27        False\n",
       "31        False\n",
       "          ...  \n",
       "568405    False\n",
       "568413     True\n",
       "568417    False\n",
       "568435    False\n",
       "568439    False\n",
       "Length: 115091, dtype: bool"
      ]
     },
     "execution_count": 38,
     "metadata": {},
     "output_type": "execute_result"
    }
   ],
   "source": [
    "df_valid.duplicated(['UserId','ProfileName','Time','Text'])"
   ]
  },
  {
   "cell_type": "code",
   "execution_count": 17,
   "id": "c911d061-d85d-47ac-87de-0070a248c225",
   "metadata": {},
   "outputs": [],
   "source": [
    "data= df_valid.drop_duplicates(subset=['UserId','ProfileName','Time','Text'])"
   ]
  },
  {
   "cell_type": "code",
   "execution_count": 42,
   "id": "8b0c57a9-a2ba-493a-8b84-f00cd0816f24",
   "metadata": {},
   "outputs": [
    {
     "data": {
      "text/plain": [
       "(78220, 10)"
      ]
     },
     "execution_count": 42,
     "metadata": {},
     "output_type": "execute_result"
    }
   ],
   "source": [
    "data.shape"
   ]
  },
  {
   "cell_type": "code",
   "execution_count": 46,
   "id": "ddb0bb40-2e80-4dff-83b0-8ee15ff72f17",
   "metadata": {},
   "outputs": [
    {
     "data": {
      "text/plain": [
       "Id                         int64\n",
       "ProductId                 object\n",
       "UserId                    object\n",
       "ProfileName               object\n",
       "HelpfulnessNumerator       int64\n",
       "HelpfulnessDenominator     int64\n",
       "Score                      int64\n",
       "Time                       int64\n",
       "Summary                   object\n",
       "Text                      object\n",
       "dtype: object"
      ]
     },
     "execution_count": 46,
     "metadata": {},
     "output_type": "execute_result"
    }
   ],
   "source": [
    "data.dtypes #time stored in date time"
   ]
  },
  {
   "cell_type": "code",
   "execution_count": 50,
   "id": "6d21a62d-5851-4d39-97a0-d7c0230b0f06",
   "metadata": {},
   "outputs": [
    {
     "data": {
      "text/plain": [
       "14        1268352000\n",
       "15        1262044800\n",
       "26        1332633600\n",
       "27        1331856000\n",
       "31        1288310400\n",
       "             ...    \n",
       "568384    1255219200\n",
       "568405    1274918400\n",
       "568417    1257897600\n",
       "568435    1285718400\n",
       "568439    1280102400\n",
       "Name: Time, Length: 78220, dtype: int64"
      ]
     },
     "execution_count": 50,
     "metadata": {},
     "output_type": "execute_result"
    }
   ],
   "source": [
    "data['Time']"
   ]
  },
  {
   "cell_type": "code",
   "execution_count": 52,
   "id": "83427790-8c82-4c44-b68e-33e4c3fe3ada",
   "metadata": {},
   "outputs": [
    {
     "data": {
      "text/plain": [
       "14       1970-01-01 00:00:01.268352000\n",
       "15       1970-01-01 00:00:01.262044800\n",
       "26       1970-01-01 00:00:01.332633600\n",
       "27       1970-01-01 00:00:01.331856000\n",
       "31       1970-01-01 00:00:01.288310400\n",
       "                      ...             \n",
       "568384   1970-01-01 00:00:01.255219200\n",
       "568405   1970-01-01 00:00:01.274918400\n",
       "568417   1970-01-01 00:00:01.257897600\n",
       "568435   1970-01-01 00:00:01.285718400\n",
       "568439   1970-01-01 00:00:01.280102400\n",
       "Name: Time, Length: 78220, dtype: datetime64[ns]"
      ]
     },
     "execution_count": 52,
     "metadata": {},
     "output_type": "execute_result"
    }
   ],
   "source": [
    "pd.to_datetime(data['Time'])"
   ]
  },
  {
   "cell_type": "code",
   "execution_count": 19,
   "id": "45c642ad-ef9a-4c14-9011-07b7a6daa5e2",
   "metadata": {},
   "outputs": [
    {
     "data": {
      "text/plain": [
       "14       2010-03-12\n",
       "15       2009-12-29\n",
       "26       2012-03-25\n",
       "27       2012-03-16\n",
       "31       2010-10-29\n",
       "            ...    \n",
       "568384   2009-10-11\n",
       "568405   2010-05-27\n",
       "568417   2009-11-11\n",
       "568435   2010-09-29\n",
       "568439   2010-07-26\n",
       "Name: Time, Length: 78220, dtype: datetime64[ns]"
      ]
     },
     "execution_count": 19,
     "metadata": {},
     "output_type": "execute_result"
    }
   ],
   "source": [
    "pd.to_datetime(data['Time'], unit='s')"
   ]
  },
  {
   "cell_type": "code",
   "execution_count": 21,
   "id": "e203172d-799f-48f6-ace6-65188ee3af00",
   "metadata": {},
   "outputs": [
    {
     "name": "stderr",
     "output_type": "stream",
     "text": [
      "/var/folders/l2/jhd87z2n59ngd0gm_hwq2dxr0000gn/T/ipykernel_1332/465285813.py:1: SettingWithCopyWarning: \n",
      "A value is trying to be set on a copy of a slice from a DataFrame.\n",
      "Try using .loc[row_indexer,col_indexer] = value instead\n",
      "\n",
      "See the caveats in the documentation: https://pandas.pydata.org/pandas-docs/stable/user_guide/indexing.html#returning-a-view-versus-a-copy\n",
      "  data['Time'] =pd.to_datetime(data['Time'], unit='s')\n"
     ]
    }
   ],
   "source": [
    "data['Time'] =pd.to_datetime(data['Time'], unit='s')"
   ]
  },
  {
   "cell_type": "code",
   "execution_count": 23,
   "id": "4e1d156b-3f29-4b27-bb7f-a942b3dcdb9e",
   "metadata": {},
   "outputs": [],
   "source": [
    "import warnings \n",
    "from warnings import filterwarnings\n",
    "filterwarnings('ignore')"
   ]
  },
  {
   "cell_type": "markdown",
   "id": "d186abdf-e8da-4335-a512-0d58bc7d98dc",
   "metadata": {},
   "source": [
    "Analyse to what user amazon can recommend more product? -- buy more or conversion rate"
   ]
  },
  {
   "cell_type": "code",
   "execution_count": 25,
   "id": "7a4fe65d-d522-419a-9317-417669d13563",
   "metadata": {},
   "outputs": [
    {
     "data": {
      "text/plain": [
       "Index(['Id', 'ProductId', 'UserId', 'ProfileName', 'HelpfulnessNumerator',\n",
       "       'HelpfulnessDenominator', 'Score', 'Time', 'Summary', 'Text'],\n",
       "      dtype='object')"
      ]
     },
     "execution_count": 25,
     "metadata": {},
     "output_type": "execute_result"
    }
   ],
   "source": [
    "data.columns"
   ]
  },
  {
   "cell_type": "code",
   "execution_count": 80,
   "id": "ebb6d801-800d-4c53-9137-adcc3984e6cb",
   "metadata": {},
   "outputs": [
    {
     "data": {
      "text/plain": [
       "14        A2MUGFV2TDQ47K\n",
       "15        A1CZX3CP8IKQIJ\n",
       "26        A3RXAU2N8KV45G\n",
       "27         AAAS38B98HMIK\n",
       "31        A31OQO709M20Y7\n",
       "               ...      \n",
       "568384     A8T6W1M15FM75\n",
       "568405    A2ZKNGL20FBK2I\n",
       "568417    A1SOL9F0I9D3A4\n",
       "568435    A2PSB4WQHH46HN\n",
       "568439    A34GDV49ZZQKXG\n",
       "Name: UserId, Length: 78220, dtype: object"
      ]
     },
     "execution_count": 80,
     "metadata": {},
     "output_type": "execute_result"
    }
   ],
   "source": [
    "data['UserId']"
   ]
  },
  {
   "cell_type": "code",
   "execution_count": 82,
   "id": "3afd16fe-959a-44a7-b803-137778edafa1",
   "metadata": {},
   "outputs": [
    {
     "data": {
      "text/plain": [
       "array(['A2MUGFV2TDQ47K', 'A1CZX3CP8IKQIJ', 'A3RXAU2N8KV45G', ...,\n",
       "       'A1SOL9F0I9D3A4', 'A2PSB4WQHH46HN', 'A34GDV49ZZQKXG'], dtype=object)"
      ]
     },
     "execution_count": 82,
     "metadata": {},
     "output_type": "execute_result"
    }
   ],
   "source": [
    "data['UserId'].unique()"
   ]
  },
  {
   "cell_type": "code",
   "execution_count": 84,
   "id": "e82b9dcf-8179-42a2-8441-79fcab8f4746",
   "metadata": {},
   "outputs": [
    {
     "data": {
      "text/plain": [
       "62052"
      ]
     },
     "execution_count": 84,
     "metadata": {},
     "output_type": "execute_result"
    }
   ],
   "source": [
    "data['UserId'].nunique() "
   ]
  },
  {
   "cell_type": "code",
   "execution_count": 27,
   "id": "9abc703a-2a36-434b-aaaa-ef473b8c5969",
   "metadata": {},
   "outputs": [],
   "source": [
    "recommend_df=data.groupby(['UserId']).agg({'Summary': 'count','Text':'count','Score':'mean','ProductId':'count'}).sort_values(by='ProductId', ascending = False)"
   ]
  },
  {
   "cell_type": "code",
   "execution_count": 29,
   "id": "0bbf764c-0da5-4bc7-98c5-887f882bf785",
   "metadata": {},
   "outputs": [
    {
     "data": {
      "text/html": [
       "<div>\n",
       "<style scoped>\n",
       "    .dataframe tbody tr th:only-of-type {\n",
       "        vertical-align: middle;\n",
       "    }\n",
       "\n",
       "    .dataframe tbody tr th {\n",
       "        vertical-align: top;\n",
       "    }\n",
       "\n",
       "    .dataframe thead th {\n",
       "        text-align: right;\n",
       "    }\n",
       "</style>\n",
       "<table border=\"1\" class=\"dataframe\">\n",
       "  <thead>\n",
       "    <tr style=\"text-align: right;\">\n",
       "      <th></th>\n",
       "      <th>Summary</th>\n",
       "      <th>Text</th>\n",
       "      <th>Score</th>\n",
       "      <th>ProductId</th>\n",
       "    </tr>\n",
       "    <tr>\n",
       "      <th>UserId</th>\n",
       "      <th></th>\n",
       "      <th></th>\n",
       "      <th></th>\n",
       "      <th></th>\n",
       "    </tr>\n",
       "  </thead>\n",
       "  <tbody>\n",
       "    <tr>\n",
       "      <th>A281NPSIMI1C2R</th>\n",
       "      <td>70</td>\n",
       "      <td>70</td>\n",
       "      <td>4.800000</td>\n",
       "      <td>70</td>\n",
       "    </tr>\n",
       "    <tr>\n",
       "      <th>A2A1XYSB692L6J</th>\n",
       "      <td>53</td>\n",
       "      <td>53</td>\n",
       "      <td>3.698113</td>\n",
       "      <td>53</td>\n",
       "    </tr>\n",
       "    <tr>\n",
       "      <th>A1LZJZIHUPLDV4</th>\n",
       "      <td>51</td>\n",
       "      <td>51</td>\n",
       "      <td>4.960784</td>\n",
       "      <td>51</td>\n",
       "    </tr>\n",
       "    <tr>\n",
       "      <th>A29313797NGT9L</th>\n",
       "      <td>45</td>\n",
       "      <td>45</td>\n",
       "      <td>3.311111</td>\n",
       "      <td>45</td>\n",
       "    </tr>\n",
       "    <tr>\n",
       "      <th>A1YUL9PCJR3JTY</th>\n",
       "      <td>44</td>\n",
       "      <td>44</td>\n",
       "      <td>4.590909</td>\n",
       "      <td>44</td>\n",
       "    </tr>\n",
       "    <tr>\n",
       "      <th>...</th>\n",
       "      <td>...</td>\n",
       "      <td>...</td>\n",
       "      <td>...</td>\n",
       "      <td>...</td>\n",
       "    </tr>\n",
       "    <tr>\n",
       "      <th>A2BUMO4IARNSL</th>\n",
       "      <td>1</td>\n",
       "      <td>1</td>\n",
       "      <td>1.000000</td>\n",
       "      <td>1</td>\n",
       "    </tr>\n",
       "    <tr>\n",
       "      <th>A2BUPVAQ8NN7EU</th>\n",
       "      <td>1</td>\n",
       "      <td>1</td>\n",
       "      <td>5.000000</td>\n",
       "      <td>1</td>\n",
       "    </tr>\n",
       "    <tr>\n",
       "      <th>A2BUR03REASIKQ</th>\n",
       "      <td>1</td>\n",
       "      <td>1</td>\n",
       "      <td>1.000000</td>\n",
       "      <td>1</td>\n",
       "    </tr>\n",
       "    <tr>\n",
       "      <th>A2BUR0K3PIUMGW</th>\n",
       "      <td>1</td>\n",
       "      <td>1</td>\n",
       "      <td>4.000000</td>\n",
       "      <td>1</td>\n",
       "    </tr>\n",
       "    <tr>\n",
       "      <th>AZZTH6DJ0KSIP</th>\n",
       "      <td>1</td>\n",
       "      <td>1</td>\n",
       "      <td>5.000000</td>\n",
       "      <td>1</td>\n",
       "    </tr>\n",
       "  </tbody>\n",
       "</table>\n",
       "<p>62052 rows × 4 columns</p>\n",
       "</div>"
      ],
      "text/plain": [
       "                Summary  Text     Score  ProductId\n",
       "UserId                                            \n",
       "A281NPSIMI1C2R       70    70  4.800000         70\n",
       "A2A1XYSB692L6J       53    53  3.698113         53\n",
       "A1LZJZIHUPLDV4       51    51  4.960784         51\n",
       "A29313797NGT9L       45    45  3.311111         45\n",
       "A1YUL9PCJR3JTY       44    44  4.590909         44\n",
       "...                 ...   ...       ...        ...\n",
       "A2BUMO4IARNSL         1     1  1.000000          1\n",
       "A2BUPVAQ8NN7EU        1     1  5.000000          1\n",
       "A2BUR03REASIKQ        1     1  1.000000          1\n",
       "A2BUR0K3PIUMGW        1     1  4.000000          1\n",
       "AZZTH6DJ0KSIP         1     1  5.000000          1\n",
       "\n",
       "[62052 rows x 4 columns]"
      ]
     },
     "execution_count": 29,
     "metadata": {},
     "output_type": "execute_result"
    }
   ],
   "source": [
    "recommend_df"
   ]
  },
  {
   "cell_type": "code",
   "execution_count": 31,
   "id": "9d5900a5-bb5c-4701-bdce-9ad7ee02fe84",
   "metadata": {},
   "outputs": [],
   "source": [
    "recommend_df.columns = ['no_of_summaries','num_text','avg_score','no_of_products_purchased']"
   ]
  },
  {
   "cell_type": "code",
   "execution_count": 33,
   "id": "e2a26667-71f9-4b6f-a107-6d0ef27fc718",
   "metadata": {},
   "outputs": [
    {
     "data": {
      "text/html": [
       "<div>\n",
       "<style scoped>\n",
       "    .dataframe tbody tr th:only-of-type {\n",
       "        vertical-align: middle;\n",
       "    }\n",
       "\n",
       "    .dataframe tbody tr th {\n",
       "        vertical-align: top;\n",
       "    }\n",
       "\n",
       "    .dataframe thead th {\n",
       "        text-align: right;\n",
       "    }\n",
       "</style>\n",
       "<table border=\"1\" class=\"dataframe\">\n",
       "  <thead>\n",
       "    <tr style=\"text-align: right;\">\n",
       "      <th></th>\n",
       "      <th>no_of_summaries</th>\n",
       "      <th>num_text</th>\n",
       "      <th>avg_score</th>\n",
       "      <th>no_of_products_purchased</th>\n",
       "    </tr>\n",
       "    <tr>\n",
       "      <th>UserId</th>\n",
       "      <th></th>\n",
       "      <th></th>\n",
       "      <th></th>\n",
       "      <th></th>\n",
       "    </tr>\n",
       "  </thead>\n",
       "  <tbody>\n",
       "    <tr>\n",
       "      <th>A281NPSIMI1C2R</th>\n",
       "      <td>70</td>\n",
       "      <td>70</td>\n",
       "      <td>4.800000</td>\n",
       "      <td>70</td>\n",
       "    </tr>\n",
       "    <tr>\n",
       "      <th>A2A1XYSB692L6J</th>\n",
       "      <td>53</td>\n",
       "      <td>53</td>\n",
       "      <td>3.698113</td>\n",
       "      <td>53</td>\n",
       "    </tr>\n",
       "    <tr>\n",
       "      <th>A1LZJZIHUPLDV4</th>\n",
       "      <td>51</td>\n",
       "      <td>51</td>\n",
       "      <td>4.960784</td>\n",
       "      <td>51</td>\n",
       "    </tr>\n",
       "    <tr>\n",
       "      <th>A29313797NGT9L</th>\n",
       "      <td>45</td>\n",
       "      <td>45</td>\n",
       "      <td>3.311111</td>\n",
       "      <td>45</td>\n",
       "    </tr>\n",
       "    <tr>\n",
       "      <th>A1YUL9PCJR3JTY</th>\n",
       "      <td>44</td>\n",
       "      <td>44</td>\n",
       "      <td>4.590909</td>\n",
       "      <td>44</td>\n",
       "    </tr>\n",
       "    <tr>\n",
       "      <th>...</th>\n",
       "      <td>...</td>\n",
       "      <td>...</td>\n",
       "      <td>...</td>\n",
       "      <td>...</td>\n",
       "    </tr>\n",
       "    <tr>\n",
       "      <th>A2BUMO4IARNSL</th>\n",
       "      <td>1</td>\n",
       "      <td>1</td>\n",
       "      <td>1.000000</td>\n",
       "      <td>1</td>\n",
       "    </tr>\n",
       "    <tr>\n",
       "      <th>A2BUPVAQ8NN7EU</th>\n",
       "      <td>1</td>\n",
       "      <td>1</td>\n",
       "      <td>5.000000</td>\n",
       "      <td>1</td>\n",
       "    </tr>\n",
       "    <tr>\n",
       "      <th>A2BUR03REASIKQ</th>\n",
       "      <td>1</td>\n",
       "      <td>1</td>\n",
       "      <td>1.000000</td>\n",
       "      <td>1</td>\n",
       "    </tr>\n",
       "    <tr>\n",
       "      <th>A2BUR0K3PIUMGW</th>\n",
       "      <td>1</td>\n",
       "      <td>1</td>\n",
       "      <td>4.000000</td>\n",
       "      <td>1</td>\n",
       "    </tr>\n",
       "    <tr>\n",
       "      <th>AZZTH6DJ0KSIP</th>\n",
       "      <td>1</td>\n",
       "      <td>1</td>\n",
       "      <td>5.000000</td>\n",
       "      <td>1</td>\n",
       "    </tr>\n",
       "  </tbody>\n",
       "</table>\n",
       "<p>62052 rows × 4 columns</p>\n",
       "</div>"
      ],
      "text/plain": [
       "                no_of_summaries  num_text  avg_score  no_of_products_purchased\n",
       "UserId                                                                        \n",
       "A281NPSIMI1C2R               70        70   4.800000                        70\n",
       "A2A1XYSB692L6J               53        53   3.698113                        53\n",
       "A1LZJZIHUPLDV4               51        51   4.960784                        51\n",
       "A29313797NGT9L               45        45   3.311111                        45\n",
       "A1YUL9PCJR3JTY               44        44   4.590909                        44\n",
       "...                         ...       ...        ...                       ...\n",
       "A2BUMO4IARNSL                 1         1   1.000000                         1\n",
       "A2BUPVAQ8NN7EU                1         1   5.000000                         1\n",
       "A2BUR03REASIKQ                1         1   1.000000                         1\n",
       "A2BUR0K3PIUMGW                1         1   4.000000                         1\n",
       "AZZTH6DJ0KSIP                 1         1   5.000000                         1\n",
       "\n",
       "[62052 rows x 4 columns]"
      ]
     },
     "execution_count": 33,
     "metadata": {},
     "output_type": "execute_result"
    }
   ],
   "source": [
    "recommend_df"
   ]
  },
  {
   "cell_type": "code",
   "execution_count": 106,
   "id": "83243558-ccab-425d-bebe-3798cbbe71c5",
   "metadata": {},
   "outputs": [
    {
     "data": {
      "text/plain": [
       "Index(['A281NPSIMI1C2R', 'A2A1XYSB692L6J', 'A1LZJZIHUPLDV4', 'A29313797NGT9L',\n",
       "       'A1YUL9PCJR3JTY', 'A2R6RA8FRBS608', 'A3D6TFYRMIV3ZL', 'A3F3B1JPACN215',\n",
       "       'AXO4PQU0XG3TG', 'A1WX42M589VAMQ',\n",
       "       ...\n",
       "       'A2BUFIZ3APL7Q7', 'A2BUGR79KV22IT', 'A2BUHVJ2G2GRV1', 'A2BUI0SNHRC8WA',\n",
       "       'A2BUIT9Y3HXF3B', 'A2BUMO4IARNSL', 'A2BUPVAQ8NN7EU', 'A2BUR03REASIKQ',\n",
       "       'A2BUR0K3PIUMGW', 'AZZTH6DJ0KSIP'],\n",
       "      dtype='object', name='UserId', length=62052)"
      ]
     },
     "execution_count": 106,
     "metadata": {},
     "output_type": "execute_result"
    }
   ],
   "source": [
    "recommend_df.index"
   ]
  },
  {
   "cell_type": "code",
   "execution_count": 108,
   "id": "45c9afd4-8ccc-4e6f-be6a-2253ee31d400",
   "metadata": {},
   "outputs": [
    {
     "data": {
      "text/plain": [
       "Index(['A281NPSIMI1C2R', 'A2A1XYSB692L6J', 'A1LZJZIHUPLDV4', 'A29313797NGT9L',\n",
       "       'A1YUL9PCJR3JTY', 'A2R6RA8FRBS608', 'A3D6TFYRMIV3ZL', 'A3F3B1JPACN215',\n",
       "       'AXO4PQU0XG3TG', 'A1WX42M589VAMQ'],\n",
       "      dtype='object', name='UserId')"
      ]
     },
     "execution_count": 108,
     "metadata": {},
     "output_type": "execute_result"
    }
   ],
   "source": [
    "recommend_df.index[0:10]"
   ]
  },
  {
   "cell_type": "code",
   "execution_count": 110,
   "id": "fde6c525-cbda-4541-8c39-62bff477148d",
   "metadata": {},
   "outputs": [
    {
     "data": {
      "text/plain": [
       "UserId\n",
       "A281NPSIMI1C2R    70\n",
       "A2A1XYSB692L6J    53\n",
       "A1LZJZIHUPLDV4    51\n",
       "A29313797NGT9L    45\n",
       "A1YUL9PCJR3JTY    44\n",
       "A2R6RA8FRBS608    43\n",
       "A3D6TFYRMIV3ZL    39\n",
       "A3F3B1JPACN215    38\n",
       "AXO4PQU0XG3TG     37\n",
       "A1WX42M589VAMQ    31\n",
       "Name: no_of_products_purchased, dtype: int64"
      ]
     },
     "execution_count": 110,
     "metadata": {},
     "output_type": "execute_result"
    }
   ],
   "source": [
    "recommend_df['no_of_products_purchased'][0:10]"
   ]
  },
  {
   "cell_type": "code",
   "execution_count": 112,
   "id": "07ede6c6-0762-4849-b55b-92c7c330804e",
   "metadata": {},
   "outputs": [
    {
     "data": {
      "text/plain": [
       "array([70, 53, 51, 45, 44, 43, 39, 38, 37, 31])"
      ]
     },
     "execution_count": 112,
     "metadata": {},
     "output_type": "execute_result"
    }
   ],
   "source": [
    "recommend_df['no_of_products_purchased'][0:10].values"
   ]
  },
  {
   "cell_type": "code",
   "execution_count": 114,
   "id": "feacac4d-b21c-42a3-95ee-ebbeedc0f8a2",
   "metadata": {},
   "outputs": [
    {
     "data": {
      "text/plain": [
       "<BarContainer object of 10 artists>"
      ]
     },
     "execution_count": 114,
     "metadata": {},
     "output_type": "execute_result"
    },
    {
     "data": {
      "image/png": "[encoded data removed]",
      "text/plain": [
       "<Figure size 640x480 with 1 Axes>"
      ]
     },
     "metadata": {},
     "output_type": "display_data"
    }
   ],
   "source": [
    "plt.bar(recommend_df.index[0:10],recommend_df['no_of_products_purchased'][0:10].values)"
   ]
  },
  {
   "cell_type": "code",
   "execution_count": 118,
   "id": "7eb23a2f-7c53-447c-aa0e-1b91d045dd27",
   "metadata": {},
   "outputs": [
    {
     "data": {
      "text/plain": [
       "([0, 1, 2, 3, 4, 5, 6, 7, 8, 9],\n",
       " [Text(0, 0, 'A281NPSIMI1C2R'),\n",
       "  Text(1, 0, 'A2A1XYSB692L6J'),\n",
       "  Text(2, 0, 'A1LZJZIHUPLDV4'),\n",
       "  Text(3, 0, 'A29313797NGT9L'),\n",
       "  Text(4, 0, 'A1YUL9PCJR3JTY'),\n",
       "  Text(5, 0, 'A2R6RA8FRBS608'),\n",
       "  Text(6, 0, 'A3D6TFYRMIV3ZL'),\n",
       "  Text(7, 0, 'A3F3B1JPACN215'),\n",
       "  Text(8, 0, 'AXO4PQU0XG3TG'),\n",
       "  Text(9, 0, 'A1WX42M589VAMQ')])"
      ]
     },
     "execution_count": 118,
     "metadata": {},
     "output_type": "execute_result"
    },
    {
     "data": {
      "image/png": "[encoded data removed]",
      "text/plain": [
       "<Figure size 640x480 with 1 Axes>"
      ]
     },
     "metadata": {},
     "output_type": "display_data"
    }
   ],
   "source": [
    "plt.bar(recommend_df.index[0:10],recommend_df['no_of_products_purchased'][0:10].values)\n",
    "plt.xticks(rotation='vertical')"
   ]
  },
  {
   "cell_type": "markdown",
   "id": "d0bbccf8-f84a-43b4-af49-4e7f36f3caec",
   "metadata": {},
   "source": [
    "Which products has good no of reviews?"
   ]
  },
  {
   "cell_type": "code",
   "execution_count": 35,
   "id": "4cf2a26d-c949-45a8-bc6e-dcc0bcffb34e",
   "metadata": {},
   "outputs": [
    {
     "data": {
      "text/plain": [
       "Index(['Id', 'ProductId', 'UserId', 'ProfileName', 'HelpfulnessNumerator',\n",
       "       'HelpfulnessDenominator', 'Score', 'Time', 'Summary', 'Text'],\n",
       "      dtype='object')"
      ]
     },
     "execution_count": 35,
     "metadata": {},
     "output_type": "execute_result"
    }
   ],
   "source": [
    "data.columns"
   ]
  },
  {
   "cell_type": "code",
   "execution_count": 126,
   "id": "462b6306-25f9-4e91-b2d5-174be2f7be0c",
   "metadata": {},
   "outputs": [
    {
     "data": {
      "text/plain": [
       "array(['B001GVISJM', 'B003F6UO7K', 'B001EO5QW8', ..., 'B0000D16IP',\n",
       "       'B003XUL27E', 'B000NY4SAG'], dtype=object)"
      ]
     },
     "execution_count": 126,
     "metadata": {},
     "output_type": "execute_result"
    }
   ],
   "source": [
    "data['ProductId'].unique()"
   ]
  },
  {
   "cell_type": "code",
   "execution_count": 128,
   "id": "ac03d661-4ee2-4184-91b9-d7b2de087af3",
   "metadata": {},
   "outputs": [
    {
     "data": {
      "text/plain": [
       "22602"
      ]
     },
     "execution_count": 128,
     "metadata": {},
     "output_type": "execute_result"
    }
   ],
   "source": [
    "data['ProductId'].nunique()"
   ]
  },
  {
   "cell_type": "code",
   "execution_count": 37,
   "id": "18cb6daf-2a05-4c3a-8559-77a7f291dbd3",
   "metadata": {},
   "outputs": [],
   "source": [
    "prod_count=data['ProductId'].value_counts().to_frame()"
   ]
  },
  {
   "cell_type": "code",
   "execution_count": 39,
   "id": "94077579-0ba1-416b-baff-b084ef1abd1f",
   "metadata": {},
   "outputs": [
    {
     "data": {
      "text/html": [
       "<div>\n",
       "<style scoped>\n",
       "    .dataframe tbody tr th:only-of-type {\n",
       "        vertical-align: middle;\n",
       "    }\n",
       "\n",
       "    .dataframe tbody tr th {\n",
       "        vertical-align: top;\n",
       "    }\n",
       "\n",
       "    .dataframe thead th {\n",
       "        text-align: right;\n",
       "    }\n",
       "</style>\n",
       "<table border=\"1\" class=\"dataframe\">\n",
       "  <thead>\n",
       "    <tr style=\"text-align: right;\">\n",
       "      <th></th>\n",
       "      <th>count</th>\n",
       "    </tr>\n",
       "    <tr>\n",
       "      <th>ProductId</th>\n",
       "      <th></th>\n",
       "    </tr>\n",
       "  </thead>\n",
       "  <tbody>\n",
       "    <tr>\n",
       "      <th>B002IEZJMA</th>\n",
       "      <td>240</td>\n",
       "    </tr>\n",
       "    <tr>\n",
       "      <th>B007I7Z3Z0</th>\n",
       "      <td>229</td>\n",
       "    </tr>\n",
       "    <tr>\n",
       "      <th>B006Q820X0</th>\n",
       "      <td>203</td>\n",
       "    </tr>\n",
       "    <tr>\n",
       "      <th>B005ZBZLT4</th>\n",
       "      <td>200</td>\n",
       "    </tr>\n",
       "    <tr>\n",
       "      <th>B004JRMG98</th>\n",
       "      <td>191</td>\n",
       "    </tr>\n",
       "    <tr>\n",
       "      <th>...</th>\n",
       "      <td>...</td>\n",
       "    </tr>\n",
       "    <tr>\n",
       "      <th>B000M8O0ME</th>\n",
       "      <td>1</td>\n",
       "    </tr>\n",
       "    <tr>\n",
       "      <th>B001ASH39W</th>\n",
       "      <td>1</td>\n",
       "    </tr>\n",
       "    <tr>\n",
       "      <th>B000IXWDKE</th>\n",
       "      <td>1</td>\n",
       "    </tr>\n",
       "    <tr>\n",
       "      <th>B0028H3IE8</th>\n",
       "      <td>1</td>\n",
       "    </tr>\n",
       "    <tr>\n",
       "      <th>B000NY4SAG</th>\n",
       "      <td>1</td>\n",
       "    </tr>\n",
       "  </tbody>\n",
       "</table>\n",
       "<p>22602 rows × 1 columns</p>\n",
       "</div>"
      ],
      "text/plain": [
       "            count\n",
       "ProductId        \n",
       "B002IEZJMA    240\n",
       "B007I7Z3Z0    229\n",
       "B006Q820X0    203\n",
       "B005ZBZLT4    200\n",
       "B004JRMG98    191\n",
       "...           ...\n",
       "B000M8O0ME      1\n",
       "B001ASH39W      1\n",
       "B000IXWDKE      1\n",
       "B0028H3IE8      1\n",
       "B000NY4SAG      1\n",
       "\n",
       "[22602 rows x 1 columns]"
      ]
     },
     "execution_count": 39,
     "metadata": {},
     "output_type": "execute_result"
    }
   ],
   "source": [
    "prod_count"
   ]
  },
  {
   "cell_type": "code",
   "execution_count": 162,
   "id": "94d57361-5d7d-4103-ac7d-bfc9d05511d5",
   "metadata": {},
   "outputs": [
    {
     "data": {
      "text/plain": [
       "ProductId\n",
       "B002IEZJMA     True\n",
       "B007I7Z3Z0     True\n",
       "B006Q820X0     True\n",
       "B005ZBZLT4     True\n",
       "B004JRMG98     True\n",
       "              ...  \n",
       "B000M8O0ME    False\n",
       "B001ASH39W    False\n",
       "B000IXWDKE    False\n",
       "B0028H3IE8    False\n",
       "B000NY4SAG    False\n",
       "Name: count, Length: 22602, dtype: bool"
      ]
     },
     "execution_count": 162,
     "metadata": {},
     "output_type": "execute_result"
    }
   ],
   "source": [
    "prod_count['count']>150 # about 150 - products more sales"
   ]
  },
  {
   "cell_type": "code",
   "execution_count": 158,
   "id": "59699437-7e60-4049-834f-f1eb624a22c0",
   "metadata": {},
   "outputs": [
    {
     "data": {
      "text/html": [
       "<div>\n",
       "<style scoped>\n",
       "    .dataframe tbody tr th:only-of-type {\n",
       "        vertical-align: middle;\n",
       "    }\n",
       "\n",
       "    .dataframe tbody tr th {\n",
       "        vertical-align: top;\n",
       "    }\n",
       "\n",
       "    .dataframe thead th {\n",
       "        text-align: right;\n",
       "    }\n",
       "</style>\n",
       "<table border=\"1\" class=\"dataframe\">\n",
       "  <thead>\n",
       "    <tr style=\"text-align: right;\">\n",
       "      <th></th>\n",
       "      <th>count</th>\n",
       "    </tr>\n",
       "    <tr>\n",
       "      <th>ProductId</th>\n",
       "      <th></th>\n",
       "    </tr>\n",
       "  </thead>\n",
       "  <tbody>\n",
       "    <tr>\n",
       "      <th>B002IEZJMA</th>\n",
       "      <td>240</td>\n",
       "    </tr>\n",
       "    <tr>\n",
       "      <th>B007I7Z3Z0</th>\n",
       "      <td>229</td>\n",
       "    </tr>\n",
       "    <tr>\n",
       "      <th>B006Q820X0</th>\n",
       "      <td>203</td>\n",
       "    </tr>\n",
       "    <tr>\n",
       "      <th>B005ZBZLT4</th>\n",
       "      <td>200</td>\n",
       "    </tr>\n",
       "    <tr>\n",
       "      <th>B004JRMG98</th>\n",
       "      <td>191</td>\n",
       "    </tr>\n",
       "    <tr>\n",
       "      <th>B006MONQMC</th>\n",
       "      <td>191</td>\n",
       "    </tr>\n",
       "    <tr>\n",
       "      <th>B0045XE32E</th>\n",
       "      <td>177</td>\n",
       "    </tr>\n",
       "    <tr>\n",
       "      <th>B005VOONKI</th>\n",
       "      <td>167</td>\n",
       "    </tr>\n",
       "    <tr>\n",
       "      <th>B0041NYV8E</th>\n",
       "      <td>164</td>\n",
       "    </tr>\n",
       "    <tr>\n",
       "      <th>B005K4Q37A</th>\n",
       "      <td>163</td>\n",
       "    </tr>\n",
       "    <tr>\n",
       "      <th>B001LG940E</th>\n",
       "      <td>159</td>\n",
       "    </tr>\n",
       "    <tr>\n",
       "      <th>B000LQORDE</th>\n",
       "      <td>155</td>\n",
       "    </tr>\n",
       "    <tr>\n",
       "      <th>B001VJ0B0I</th>\n",
       "      <td>154</td>\n",
       "    </tr>\n",
       "    <tr>\n",
       "      <th>B0090X8IPM</th>\n",
       "      <td>152</td>\n",
       "    </tr>\n",
       "  </tbody>\n",
       "</table>\n",
       "</div>"
      ],
      "text/plain": [
       "            count\n",
       "ProductId        \n",
       "B002IEZJMA    240\n",
       "B007I7Z3Z0    229\n",
       "B006Q820X0    203\n",
       "B005ZBZLT4    200\n",
       "B004JRMG98    191\n",
       "B006MONQMC    191\n",
       "B0045XE32E    177\n",
       "B005VOONKI    167\n",
       "B0041NYV8E    164\n",
       "B005K4Q37A    163\n",
       "B001LG940E    159\n",
       "B000LQORDE    155\n",
       "B001VJ0B0I    154\n",
       "B0090X8IPM    152"
      ]
     },
     "execution_count": 158,
     "metadata": {},
     "output_type": "execute_result"
    }
   ],
   "source": [
    "prod_count[prod_count['count']>150] "
   ]
  },
  {
   "cell_type": "code",
   "execution_count": 41,
   "id": "9bf138b4-890d-4f66-9a75-989aa197573f",
   "metadata": {},
   "outputs": [],
   "source": [
    "freq_prod=prod_count[prod_count['count']>150].index"
   ]
  },
  {
   "cell_type": "code",
   "execution_count": 43,
   "id": "126980c7-3684-4ef9-bca8-238513a12427",
   "metadata": {},
   "outputs": [
    {
     "data": {
      "text/plain": [
       "Index(['B002IEZJMA', 'B007I7Z3Z0', 'B006Q820X0', 'B005ZBZLT4', 'B004JRMG98',\n",
       "       'B006MONQMC', 'B0045XE32E', 'B005VOONKI', 'B0041NYV8E', 'B005K4Q37A',\n",
       "       'B001LG940E', 'B000LQORDE', 'B001VJ0B0I', 'B0090X8IPM'],\n",
       "      dtype='object', name='ProductId')"
      ]
     },
     "execution_count": 43,
     "metadata": {},
     "output_type": "execute_result"
    }
   ],
   "source": [
    "freq_prod"
   ]
  },
  {
   "cell_type": "code",
   "execution_count": 45,
   "id": "0fce9092-62c0-4a80-87e9-b760a18b09b3",
   "metadata": {},
   "outputs": [
    {
     "data": {
      "text/plain": [
       "14        False\n",
       "15        False\n",
       "26        False\n",
       "27        False\n",
       "31        False\n",
       "          ...  \n",
       "568384    False\n",
       "568405    False\n",
       "568417    False\n",
       "568435    False\n",
       "568439    False\n",
       "Name: ProductId, Length: 78220, dtype: bool"
      ]
     },
     "execution_count": 45,
     "metadata": {},
     "output_type": "execute_result"
    }
   ],
   "source": [
    "data['ProductId'].isin(freq_prod)"
   ]
  },
  {
   "cell_type": "code",
   "execution_count": 47,
   "id": "0daa91b8-7d1e-4ba0-98b7-954125d3bca6",
   "metadata": {},
   "outputs": [],
   "source": [
    "freq_prod = data[data['ProductId'].isin(freq_prod)]"
   ]
  },
  {
   "cell_type": "code",
   "execution_count": 49,
   "id": "34283710-6274-41ae-85a9-85eb0ef1ce2c",
   "metadata": {},
   "outputs": [
    {
     "data": {
      "text/html": [
       "<div>\n",
       "<style scoped>\n",
       "    .dataframe tbody tr th:only-of-type {\n",
       "        vertical-align: middle;\n",
       "    }\n",
       "\n",
       "    .dataframe tbody tr th {\n",
       "        vertical-align: top;\n",
       "    }\n",
       "\n",
       "    .dataframe thead th {\n",
       "        text-align: right;\n",
       "    }\n",
       "</style>\n",
       "<table border=\"1\" class=\"dataframe\">\n",
       "  <thead>\n",
       "    <tr style=\"text-align: right;\">\n",
       "      <th></th>\n",
       "      <th>Id</th>\n",
       "      <th>ProductId</th>\n",
       "      <th>UserId</th>\n",
       "      <th>ProfileName</th>\n",
       "      <th>HelpfulnessNumerator</th>\n",
       "      <th>HelpfulnessDenominator</th>\n",
       "      <th>Score</th>\n",
       "      <th>Time</th>\n",
       "      <th>Summary</th>\n",
       "      <th>Text</th>\n",
       "    </tr>\n",
       "  </thead>\n",
       "  <tbody>\n",
       "    <tr>\n",
       "      <th>14023</th>\n",
       "      <td>14024</td>\n",
       "      <td>B0045XE32E</td>\n",
       "      <td>A3NYTSAEPZDJ7Y</td>\n",
       "      <td>Elizabeth Ray</td>\n",
       "      <td>5</td>\n",
       "      <td>8</td>\n",
       "      <td>2</td>\n",
       "      <td>2011-03-14</td>\n",
       "      <td>He ate them begrudgingly</td>\n",
       "      <td>I was excited to offer these seemingly healthy...</td>\n",
       "    </tr>\n",
       "    <tr>\n",
       "      <th>14024</th>\n",
       "      <td>14025</td>\n",
       "      <td>B0045XE32E</td>\n",
       "      <td>A2IMLOJ2Z2QEU2</td>\n",
       "      <td>Naomi (Storm)</td>\n",
       "      <td>5</td>\n",
       "      <td>8</td>\n",
       "      <td>5</td>\n",
       "      <td>2011-02-28</td>\n",
       "      <td>My dogs love these</td>\n",
       "      <td>I have two dogs, an Alaskan Malamute and a Shi...</td>\n",
       "    </tr>\n",
       "    <tr>\n",
       "      <th>14025</th>\n",
       "      <td>14026</td>\n",
       "      <td>B0045XE32E</td>\n",
       "      <td>A1LAGS8H4A2DR7</td>\n",
       "      <td>Bill Nicholas</td>\n",
       "      <td>3</td>\n",
       "      <td>5</td>\n",
       "      <td>3</td>\n",
       "      <td>2011-03-14</td>\n",
       "      <td>I know the Features, but not the Benefits</td>\n",
       "      <td>It's hard to review something a dog eats. Our ...</td>\n",
       "    </tr>\n",
       "    <tr>\n",
       "      <th>14026</th>\n",
       "      <td>14027</td>\n",
       "      <td>B0045XE32E</td>\n",
       "      <td>A38H4XCCPLRF93</td>\n",
       "      <td>L. Maynard</td>\n",
       "      <td>3</td>\n",
       "      <td>5</td>\n",
       "      <td>4</td>\n",
       "      <td>2011-02-22</td>\n",
       "      <td>Not for small breed dogs</td>\n",
       "      <td>I got these for my two chihuahuas and a welsh ...</td>\n",
       "    </tr>\n",
       "    <tr>\n",
       "      <th>14027</th>\n",
       "      <td>14028</td>\n",
       "      <td>B0045XE32E</td>\n",
       "      <td>A3UC3YT2E65LZO</td>\n",
       "      <td>R. Dowling</td>\n",
       "      <td>1</td>\n",
       "      <td>2</td>\n",
       "      <td>5</td>\n",
       "      <td>2011-03-28</td>\n",
       "      <td>Chow/golden retriever gives these \"two paws up!\"</td>\n",
       "      <td>I ordered these for a friend who has a chow/go...</td>\n",
       "    </tr>\n",
       "    <tr>\n",
       "      <th>...</th>\n",
       "      <td>...</td>\n",
       "      <td>...</td>\n",
       "      <td>...</td>\n",
       "      <td>...</td>\n",
       "      <td>...</td>\n",
       "      <td>...</td>\n",
       "      <td>...</td>\n",
       "      <td>...</td>\n",
       "      <td>...</td>\n",
       "      <td>...</td>\n",
       "    </tr>\n",
       "    <tr>\n",
       "      <th>543909</th>\n",
       "      <td>543910</td>\n",
       "      <td>B006MONQMC</td>\n",
       "      <td>AY46DEOJJYFTW</td>\n",
       "      <td>Kerry O. Burns</td>\n",
       "      <td>0</td>\n",
       "      <td>3</td>\n",
       "      <td>1</td>\n",
       "      <td>2012-04-05</td>\n",
       "      <td>nice idea, bad taste...</td>\n",
       "      <td>It must have sounded like a winner on the draw...</td>\n",
       "    </tr>\n",
       "    <tr>\n",
       "      <th>543910</th>\n",
       "      <td>543911</td>\n",
       "      <td>B006MONQMC</td>\n",
       "      <td>A1UMSB7LAW0RIR</td>\n",
       "      <td>Writer of Books - Mage - Mom to Two \"Writer, ...</td>\n",
       "      <td>0</td>\n",
       "      <td>3</td>\n",
       "      <td>1</td>\n",
       "      <td>2012-03-31</td>\n",
       "      <td>Just a mess all the way around.</td>\n",
       "      <td>I love energy drinks. This one is kind of a me...</td>\n",
       "    </tr>\n",
       "    <tr>\n",
       "      <th>543911</th>\n",
       "      <td>543912</td>\n",
       "      <td>B006MONQMC</td>\n",
       "      <td>A305XM71TF83CY</td>\n",
       "      <td>Keleigh Crigler Hadley</td>\n",
       "      <td>0</td>\n",
       "      <td>3</td>\n",
       "      <td>1</td>\n",
       "      <td>2012-03-30</td>\n",
       "      <td>Too confusing</td>\n",
       "      <td>\"A squeeze\"? How do I know how much I should s...</td>\n",
       "    </tr>\n",
       "    <tr>\n",
       "      <th>543912</th>\n",
       "      <td>543913</td>\n",
       "      <td>B006MONQMC</td>\n",
       "      <td>A3T4OHEAHOJ700</td>\n",
       "      <td>B. Colonna</td>\n",
       "      <td>0</td>\n",
       "      <td>3</td>\n",
       "      <td>1</td>\n",
       "      <td>2012-03-30</td>\n",
       "      <td>More Like Vitamin Squeeze Enemy</td>\n",
       "      <td>I had read a few of the reviews on Vitamin Squ...</td>\n",
       "    </tr>\n",
       "    <tr>\n",
       "      <th>543923</th>\n",
       "      <td>543924</td>\n",
       "      <td>B006MONQMC</td>\n",
       "      <td>A2AVMEB8PQOTTE</td>\n",
       "      <td>Robert Riggs \"The Music Connection Wholesale\"</td>\n",
       "      <td>1</td>\n",
       "      <td>5</td>\n",
       "      <td>5</td>\n",
       "      <td>2012-06-19</td>\n",
       "      <td>Vitamin Squeeze</td>\n",
       "      <td>Open the container, one squirt into your glass...</td>\n",
       "    </tr>\n",
       "  </tbody>\n",
       "</table>\n",
       "<p>2545 rows × 10 columns</p>\n",
       "</div>"
      ],
      "text/plain": [
       "            Id   ProductId          UserId  \\\n",
       "14023    14024  B0045XE32E  A3NYTSAEPZDJ7Y   \n",
       "14024    14025  B0045XE32E  A2IMLOJ2Z2QEU2   \n",
       "14025    14026  B0045XE32E  A1LAGS8H4A2DR7   \n",
       "14026    14027  B0045XE32E  A38H4XCCPLRF93   \n",
       "14027    14028  B0045XE32E  A3UC3YT2E65LZO   \n",
       "...        ...         ...             ...   \n",
       "543909  543910  B006MONQMC   AY46DEOJJYFTW   \n",
       "543910  543911  B006MONQMC  A1UMSB7LAW0RIR   \n",
       "543911  543912  B006MONQMC  A305XM71TF83CY   \n",
       "543912  543913  B006MONQMC  A3T4OHEAHOJ700   \n",
       "543923  543924  B006MONQMC  A2AVMEB8PQOTTE   \n",
       "\n",
       "                                             ProfileName  \\\n",
       "14023                                      Elizabeth Ray   \n",
       "14024                                      Naomi (Storm)   \n",
       "14025                                      Bill Nicholas   \n",
       "14026                                         L. Maynard   \n",
       "14027                                         R. Dowling   \n",
       "...                                                  ...   \n",
       "543909                                    Kerry O. Burns   \n",
       "543910  Writer of Books - Mage - Mom to Two \"Writer, ...   \n",
       "543911                            Keleigh Crigler Hadley   \n",
       "543912                                        B. Colonna   \n",
       "543923     Robert Riggs \"The Music Connection Wholesale\"   \n",
       "\n",
       "        HelpfulnessNumerator  HelpfulnessDenominator  Score       Time  \\\n",
       "14023                      5                       8      2 2011-03-14   \n",
       "14024                      5                       8      5 2011-02-28   \n",
       "14025                      3                       5      3 2011-03-14   \n",
       "14026                      3                       5      4 2011-02-22   \n",
       "14027                      1                       2      5 2011-03-28   \n",
       "...                      ...                     ...    ...        ...   \n",
       "543909                     0                       3      1 2012-04-05   \n",
       "543910                     0                       3      1 2012-03-31   \n",
       "543911                     0                       3      1 2012-03-30   \n",
       "543912                     0                       3      1 2012-03-30   \n",
       "543923                     1                       5      5 2012-06-19   \n",
       "\n",
       "                                                 Summary  \\\n",
       "14023                           He ate them begrudgingly   \n",
       "14024                                 My dogs love these   \n",
       "14025          I know the Features, but not the Benefits   \n",
       "14026                           Not for small breed dogs   \n",
       "14027   Chow/golden retriever gives these \"two paws up!\"   \n",
       "...                                                  ...   \n",
       "543909                           nice idea, bad taste...   \n",
       "543910                   Just a mess all the way around.   \n",
       "543911                                     Too confusing   \n",
       "543912                   More Like Vitamin Squeeze Enemy   \n",
       "543923                                   Vitamin Squeeze   \n",
       "\n",
       "                                                     Text  \n",
       "14023   I was excited to offer these seemingly healthy...  \n",
       "14024   I have two dogs, an Alaskan Malamute and a Shi...  \n",
       "14025   It's hard to review something a dog eats. Our ...  \n",
       "14026   I got these for my two chihuahuas and a welsh ...  \n",
       "14027   I ordered these for a friend who has a chow/go...  \n",
       "...                                                   ...  \n",
       "543909  It must have sounded like a winner on the draw...  \n",
       "543910  I love energy drinks. This one is kind of a me...  \n",
       "543911  \"A squeeze\"? How do I know how much I should s...  \n",
       "543912  I had read a few of the reviews on Vitamin Squ...  \n",
       "543923  Open the container, one squirt into your glass...  \n",
       "\n",
       "[2545 rows x 10 columns]"
      ]
     },
     "execution_count": 49,
     "metadata": {},
     "output_type": "execute_result"
    }
   ],
   "source": [
    "freq_prod"
   ]
  },
  {
   "cell_type": "code",
   "execution_count": 61,
   "id": "545d6122-9055-4d1c-8da9-e776a3edaff5",
   "metadata": {},
   "outputs": [
    {
     "data": {
      "text/plain": [
       "<Axes: xlabel='count', ylabel='ProductId'>"
      ]
     },
     "execution_count": 61,
     "metadata": {},
     "output_type": "execute_result"
    },
    {
     "data": {
      "image/png": "[encoded data removed]",
      "text/plain": [
       "<Figure size 640x480 with 1 Axes>"
      ]
     },
     "metadata": {},
     "output_type": "display_data"
    }
   ],
   "source": [
    "sns.countplot(y = 'ProductId' , data=freq_prod)"
   ]
  },
  {
   "cell_type": "code",
   "execution_count": 63,
   "id": "64d8b0ae-181f-4096-af20-bdd4a35ec0fa",
   "metadata": {},
   "outputs": [
    {
     "data": {
      "text/plain": [
       "<Axes: xlabel='count', ylabel='ProductId'>"
      ]
     },
     "execution_count": 63,
     "metadata": {},
     "output_type": "execute_result"
    },
    {
     "data": {
      "image/png": "[encoded data removed]",
      "text/plain": [
       "<Figure size 640x480 with 1 Axes>"
      ]
     },
     "metadata": {},
     "output_type": "display_data"
    }
   ],
   "source": [
    "sns.countplot(y = 'ProductId' , data=freq_prod , hue='Score')"
   ]
  },
  {
   "cell_type": "markdown",
   "id": "80be11a1-aa61-42cd-b320-3940ae852453",
   "metadata": {},
   "source": [
    "Is there any difference b/w behaviour of frequent viewers & not frequent viewers?"
   ]
  },
  {
   "cell_type": "code",
   "execution_count": 66,
   "id": "abc4d869-e6ec-4345-8b78-2783be006c08",
   "metadata": {},
   "outputs": [
    {
     "data": {
      "text/plain": [
       "Index(['Id', 'ProductId', 'UserId', 'ProfileName', 'HelpfulnessNumerator',\n",
       "       'HelpfulnessDenominator', 'Score', 'Time', 'Summary', 'Text'],\n",
       "      dtype='object')"
      ]
     },
     "execution_count": 66,
     "metadata": {},
     "output_type": "execute_result"
    }
   ],
   "source": [
    "data.columns"
   ]
  },
  {
   "cell_type": "code",
   "execution_count": 70,
   "id": "6f9b8643-029b-41ce-86c2-f8425848a73e",
   "metadata": {},
   "outputs": [],
   "source": [
    "x= data['UserId'].value_counts()"
   ]
  },
  {
   "cell_type": "code",
   "execution_count": 72,
   "id": "89f852e5-0d39-4b81-8557-0339b0cbc767",
   "metadata": {},
   "outputs": [
    {
     "data": {
      "text/plain": [
       "UserId\n",
       "A281NPSIMI1C2R    70\n",
       "A2A1XYSB692L6J    53\n",
       "A1LZJZIHUPLDV4    51\n",
       "A29313797NGT9L    45\n",
       "A1YUL9PCJR3JTY    44\n",
       "                  ..\n",
       "AIKK0O36ZIWM0      1\n",
       "A2WN4WXBH2B8AN     1\n",
       "AVUF9YJWWNDHL      1\n",
       "A12B2H42QXCG3G     1\n",
       "A34GDV49ZZQKXG     1\n",
       "Name: count, Length: 62052, dtype: int64"
      ]
     },
     "execution_count": 72,
     "metadata": {},
     "output_type": "execute_result"
    }
   ],
   "source": [
    "x"
   ]
  },
  {
   "cell_type": "code",
   "execution_count": 76,
   "id": "ff562770-5513-40e3-948c-57765b90d4ac",
   "metadata": {},
   "outputs": [],
   "source": [
    "data['Viewer_type']=data['UserId'].apply(lambda user: \"Frequent\" if x[user]>40 else \"Not Frequent\")"
   ]
  },
  {
   "cell_type": "code",
   "execution_count": 78,
   "id": "783745d4-ef6b-4be4-8b6a-79df12a59011",
   "metadata": {},
   "outputs": [
    {
     "data": {
      "text/html": [
       "<div>\n",
       "<style scoped>\n",
       "    .dataframe tbody tr th:only-of-type {\n",
       "        vertical-align: middle;\n",
       "    }\n",
       "\n",
       "    .dataframe tbody tr th {\n",
       "        vertical-align: top;\n",
       "    }\n",
       "\n",
       "    .dataframe thead th {\n",
       "        text-align: right;\n",
       "    }\n",
       "</style>\n",
       "<table border=\"1\" class=\"dataframe\">\n",
       "  <thead>\n",
       "    <tr style=\"text-align: right;\">\n",
       "      <th></th>\n",
       "      <th>Id</th>\n",
       "      <th>ProductId</th>\n",
       "      <th>UserId</th>\n",
       "      <th>ProfileName</th>\n",
       "      <th>HelpfulnessNumerator</th>\n",
       "      <th>HelpfulnessDenominator</th>\n",
       "      <th>Score</th>\n",
       "      <th>Time</th>\n",
       "      <th>Summary</th>\n",
       "      <th>Text</th>\n",
       "      <th>Viewer_type</th>\n",
       "    </tr>\n",
       "  </thead>\n",
       "  <tbody>\n",
       "    <tr>\n",
       "      <th>14</th>\n",
       "      <td>15</td>\n",
       "      <td>B001GVISJM</td>\n",
       "      <td>A2MUGFV2TDQ47K</td>\n",
       "      <td>Lynrie \"Oh HELL no\"</td>\n",
       "      <td>4</td>\n",
       "      <td>5</td>\n",
       "      <td>5</td>\n",
       "      <td>2010-03-12</td>\n",
       "      <td>Strawberry Twizzlers - Yummy</td>\n",
       "      <td>The Strawberry Twizzlers are my guilty pleasur...</td>\n",
       "      <td>Not Frequent</td>\n",
       "    </tr>\n",
       "    <tr>\n",
       "      <th>15</th>\n",
       "      <td>16</td>\n",
       "      <td>B001GVISJM</td>\n",
       "      <td>A1CZX3CP8IKQIJ</td>\n",
       "      <td>Brian A. Lee</td>\n",
       "      <td>4</td>\n",
       "      <td>5</td>\n",
       "      <td>5</td>\n",
       "      <td>2009-12-29</td>\n",
       "      <td>Lots of twizzlers, just what you expect.</td>\n",
       "      <td>My daughter loves twizzlers and this shipment ...</td>\n",
       "      <td>Not Frequent</td>\n",
       "    </tr>\n",
       "    <tr>\n",
       "      <th>26</th>\n",
       "      <td>27</td>\n",
       "      <td>B001GVISJM</td>\n",
       "      <td>A3RXAU2N8KV45G</td>\n",
       "      <td>lady21</td>\n",
       "      <td>0</td>\n",
       "      <td>1</td>\n",
       "      <td>1</td>\n",
       "      <td>2012-03-25</td>\n",
       "      <td>Nasty No flavor</td>\n",
       "      <td>The candy is just red , No flavor . Just  plan...</td>\n",
       "      <td>Not Frequent</td>\n",
       "    </tr>\n",
       "  </tbody>\n",
       "</table>\n",
       "</div>"
      ],
      "text/plain": [
       "    Id   ProductId          UserId          ProfileName  HelpfulnessNumerator  \\\n",
       "14  15  B001GVISJM  A2MUGFV2TDQ47K  Lynrie \"Oh HELL no\"                     4   \n",
       "15  16  B001GVISJM  A1CZX3CP8IKQIJ         Brian A. Lee                     4   \n",
       "26  27  B001GVISJM  A3RXAU2N8KV45G               lady21                     0   \n",
       "\n",
       "    HelpfulnessDenominator  Score       Time  \\\n",
       "14                       5      5 2010-03-12   \n",
       "15                       5      5 2009-12-29   \n",
       "26                       1      1 2012-03-25   \n",
       "\n",
       "                                     Summary  \\\n",
       "14              Strawberry Twizzlers - Yummy   \n",
       "15  Lots of twizzlers, just what you expect.   \n",
       "26                           Nasty No flavor   \n",
       "\n",
       "                                                 Text   Viewer_type  \n",
       "14  The Strawberry Twizzlers are my guilty pleasur...  Not Frequent  \n",
       "15  My daughter loves twizzlers and this shipment ...  Not Frequent  \n",
       "26  The candy is just red , No flavor . Just  plan...  Not Frequent  "
      ]
     },
     "execution_count": 78,
     "metadata": {},
     "output_type": "execute_result"
    }
   ],
   "source": [
    "data.head(3)"
   ]
  },
  {
   "cell_type": "code",
   "execution_count": 80,
   "id": "bf5e290a-9d9a-4297-8309-3a76fe86034d",
   "metadata": {},
   "outputs": [
    {
     "data": {
      "text/plain": [
       "14        True\n",
       "15        True\n",
       "26        True\n",
       "27        True\n",
       "31        True\n",
       "          ... \n",
       "568384    True\n",
       "568405    True\n",
       "568417    True\n",
       "568435    True\n",
       "568439    True\n",
       "Name: Viewer_type, Length: 78220, dtype: bool"
      ]
     },
     "execution_count": 80,
     "metadata": {},
     "output_type": "execute_result"
    }
   ],
   "source": [
    "data['Viewer_type']=='Not Frequent'"
   ]
  },
  {
   "cell_type": "code",
   "execution_count": 82,
   "id": "74d444d4-3011-4379-84f2-f892ad1f9af4",
   "metadata": {},
   "outputs": [],
   "source": [
    "Not_freq_viewer = data[data['Viewer_type']=='Not Frequent']"
   ]
  },
  {
   "cell_type": "code",
   "execution_count": 84,
   "id": "630a4419-00ce-418b-a7a3-2a03f81ebaae",
   "metadata": {},
   "outputs": [
    {
     "data": {
      "text/html": [
       "<div>\n",
       "<style scoped>\n",
       "    .dataframe tbody tr th:only-of-type {\n",
       "        vertical-align: middle;\n",
       "    }\n",
       "\n",
       "    .dataframe tbody tr th {\n",
       "        vertical-align: top;\n",
       "    }\n",
       "\n",
       "    .dataframe thead th {\n",
       "        text-align: right;\n",
       "    }\n",
       "</style>\n",
       "<table border=\"1\" class=\"dataframe\">\n",
       "  <thead>\n",
       "    <tr style=\"text-align: right;\">\n",
       "      <th></th>\n",
       "      <th>Id</th>\n",
       "      <th>ProductId</th>\n",
       "      <th>UserId</th>\n",
       "      <th>ProfileName</th>\n",
       "      <th>HelpfulnessNumerator</th>\n",
       "      <th>HelpfulnessDenominator</th>\n",
       "      <th>Score</th>\n",
       "      <th>Time</th>\n",
       "      <th>Summary</th>\n",
       "      <th>Text</th>\n",
       "      <th>Viewer_type</th>\n",
       "    </tr>\n",
       "  </thead>\n",
       "  <tbody>\n",
       "    <tr>\n",
       "      <th>14</th>\n",
       "      <td>15</td>\n",
       "      <td>B001GVISJM</td>\n",
       "      <td>A2MUGFV2TDQ47K</td>\n",
       "      <td>Lynrie \"Oh HELL no\"</td>\n",
       "      <td>4</td>\n",
       "      <td>5</td>\n",
       "      <td>5</td>\n",
       "      <td>2010-03-12</td>\n",
       "      <td>Strawberry Twizzlers - Yummy</td>\n",
       "      <td>The Strawberry Twizzlers are my guilty pleasur...</td>\n",
       "      <td>Not Frequent</td>\n",
       "    </tr>\n",
       "    <tr>\n",
       "      <th>15</th>\n",
       "      <td>16</td>\n",
       "      <td>B001GVISJM</td>\n",
       "      <td>A1CZX3CP8IKQIJ</td>\n",
       "      <td>Brian A. Lee</td>\n",
       "      <td>4</td>\n",
       "      <td>5</td>\n",
       "      <td>5</td>\n",
       "      <td>2009-12-29</td>\n",
       "      <td>Lots of twizzlers, just what you expect.</td>\n",
       "      <td>My daughter loves twizzlers and this shipment ...</td>\n",
       "      <td>Not Frequent</td>\n",
       "    </tr>\n",
       "    <tr>\n",
       "      <th>26</th>\n",
       "      <td>27</td>\n",
       "      <td>B001GVISJM</td>\n",
       "      <td>A3RXAU2N8KV45G</td>\n",
       "      <td>lady21</td>\n",
       "      <td>0</td>\n",
       "      <td>1</td>\n",
       "      <td>1</td>\n",
       "      <td>2012-03-25</td>\n",
       "      <td>Nasty No flavor</td>\n",
       "      <td>The candy is just red , No flavor . Just  plan...</td>\n",
       "      <td>Not Frequent</td>\n",
       "    </tr>\n",
       "    <tr>\n",
       "      <th>27</th>\n",
       "      <td>28</td>\n",
       "      <td>B001GVISJM</td>\n",
       "      <td>AAAS38B98HMIK</td>\n",
       "      <td>Heather Dube</td>\n",
       "      <td>0</td>\n",
       "      <td>1</td>\n",
       "      <td>4</td>\n",
       "      <td>2012-03-16</td>\n",
       "      <td>Great Bargain for the Price</td>\n",
       "      <td>I was so glad Amazon carried these batteries. ...</td>\n",
       "      <td>Not Frequent</td>\n",
       "    </tr>\n",
       "    <tr>\n",
       "      <th>31</th>\n",
       "      <td>32</td>\n",
       "      <td>B003F6UO7K</td>\n",
       "      <td>A31OQO709M20Y7</td>\n",
       "      <td>Molly V. Smith \"staral\"</td>\n",
       "      <td>0</td>\n",
       "      <td>1</td>\n",
       "      <td>5</td>\n",
       "      <td>2010-10-29</td>\n",
       "      <td>THIS IS MY TASTE...</td>\n",
       "      <td>This offer is a great price and a great taste,...</td>\n",
       "      <td>Not Frequent</td>\n",
       "    </tr>\n",
       "    <tr>\n",
       "      <th>...</th>\n",
       "      <td>...</td>\n",
       "      <td>...</td>\n",
       "      <td>...</td>\n",
       "      <td>...</td>\n",
       "      <td>...</td>\n",
       "      <td>...</td>\n",
       "      <td>...</td>\n",
       "      <td>...</td>\n",
       "      <td>...</td>\n",
       "      <td>...</td>\n",
       "      <td>...</td>\n",
       "    </tr>\n",
       "    <tr>\n",
       "      <th>568384</th>\n",
       "      <td>568385</td>\n",
       "      <td>B000H28ABW</td>\n",
       "      <td>A8T6W1M15FM75</td>\n",
       "      <td>CA-SK \"CLA\"</td>\n",
       "      <td>0</td>\n",
       "      <td>3</td>\n",
       "      <td>2</td>\n",
       "      <td>2009-10-11</td>\n",
       "      <td>Bland Taco Seasoning</td>\n",
       "      <td>Tasteless, bland, insipid - how many synonyms ...</td>\n",
       "      <td>Not Frequent</td>\n",
       "    </tr>\n",
       "    <tr>\n",
       "      <th>568405</th>\n",
       "      <td>568406</td>\n",
       "      <td>B000P56I7Y</td>\n",
       "      <td>A2ZKNGL20FBK2I</td>\n",
       "      <td>Shatzi Crabtree</td>\n",
       "      <td>3</td>\n",
       "      <td>5</td>\n",
       "      <td>5</td>\n",
       "      <td>2010-05-27</td>\n",
       "      <td>Arrived Fine</td>\n",
       "      <td>The product arrived pretty quickly and was eas...</td>\n",
       "      <td>Not Frequent</td>\n",
       "    </tr>\n",
       "    <tr>\n",
       "      <th>568417</th>\n",
       "      <td>568418</td>\n",
       "      <td>B0000D16IP</td>\n",
       "      <td>A1SOL9F0I9D3A4</td>\n",
       "      <td>William M. Jacobs</td>\n",
       "      <td>2</td>\n",
       "      <td>4</td>\n",
       "      <td>4</td>\n",
       "      <td>2009-11-11</td>\n",
       "      <td>Great</td>\n",
       "      <td>This is the best brand of Mango Chutney that I...</td>\n",
       "      <td>Not Frequent</td>\n",
       "    </tr>\n",
       "    <tr>\n",
       "      <th>568435</th>\n",
       "      <td>568436</td>\n",
       "      <td>B003XUL27E</td>\n",
       "      <td>A2PSB4WQHH46HN</td>\n",
       "      <td>carlyowu</td>\n",
       "      <td>0</td>\n",
       "      <td>2</td>\n",
       "      <td>2</td>\n",
       "      <td>2010-09-29</td>\n",
       "      <td>Where's the tortellini?</td>\n",
       "      <td>It is mostly broth, with the advertised 3/4 cu...</td>\n",
       "      <td>Not Frequent</td>\n",
       "    </tr>\n",
       "    <tr>\n",
       "      <th>568439</th>\n",
       "      <td>568440</td>\n",
       "      <td>B000NY4SAG</td>\n",
       "      <td>A34GDV49ZZQKXG</td>\n",
       "      <td>Donald M. Cook</td>\n",
       "      <td>0</td>\n",
       "      <td>5</td>\n",
       "      <td>4</td>\n",
       "      <td>2010-07-26</td>\n",
       "      <td>a-ok</td>\n",
       "      <td>We need this for a recipe my wife is intereste...</td>\n",
       "      <td>Not Frequent</td>\n",
       "    </tr>\n",
       "  </tbody>\n",
       "</table>\n",
       "<p>77914 rows × 11 columns</p>\n",
       "</div>"
      ],
      "text/plain": [
       "            Id   ProductId          UserId              ProfileName  \\\n",
       "14          15  B001GVISJM  A2MUGFV2TDQ47K      Lynrie \"Oh HELL no\"   \n",
       "15          16  B001GVISJM  A1CZX3CP8IKQIJ             Brian A. Lee   \n",
       "26          27  B001GVISJM  A3RXAU2N8KV45G                   lady21   \n",
       "27          28  B001GVISJM   AAAS38B98HMIK             Heather Dube   \n",
       "31          32  B003F6UO7K  A31OQO709M20Y7  Molly V. Smith \"staral\"   \n",
       "...        ...         ...             ...                      ...   \n",
       "568384  568385  B000H28ABW   A8T6W1M15FM75              CA-SK \"CLA\"   \n",
       "568405  568406  B000P56I7Y  A2ZKNGL20FBK2I          Shatzi Crabtree   \n",
       "568417  568418  B0000D16IP  A1SOL9F0I9D3A4        William M. Jacobs   \n",
       "568435  568436  B003XUL27E  A2PSB4WQHH46HN                 carlyowu   \n",
       "568439  568440  B000NY4SAG  A34GDV49ZZQKXG           Donald M. Cook   \n",
       "\n",
       "        HelpfulnessNumerator  HelpfulnessDenominator  Score       Time  \\\n",
       "14                         4                       5      5 2010-03-12   \n",
       "15                         4                       5      5 2009-12-29   \n",
       "26                         0                       1      1 2012-03-25   \n",
       "27                         0                       1      4 2012-03-16   \n",
       "31                         0                       1      5 2010-10-29   \n",
       "...                      ...                     ...    ...        ...   \n",
       "568384                     0                       3      2 2009-10-11   \n",
       "568405                     3                       5      5 2010-05-27   \n",
       "568417                     2                       4      4 2009-11-11   \n",
       "568435                     0                       2      2 2010-09-29   \n",
       "568439                     0                       5      4 2010-07-26   \n",
       "\n",
       "                                         Summary  \\\n",
       "14                  Strawberry Twizzlers - Yummy   \n",
       "15      Lots of twizzlers, just what you expect.   \n",
       "26                               Nasty No flavor   \n",
       "27                   Great Bargain for the Price   \n",
       "31                           THIS IS MY TASTE...   \n",
       "...                                          ...   \n",
       "568384                      Bland Taco Seasoning   \n",
       "568405                              Arrived Fine   \n",
       "568417                                     Great   \n",
       "568435                   Where's the tortellini?   \n",
       "568439                                      a-ok   \n",
       "\n",
       "                                                     Text   Viewer_type  \n",
       "14      The Strawberry Twizzlers are my guilty pleasur...  Not Frequent  \n",
       "15      My daughter loves twizzlers and this shipment ...  Not Frequent  \n",
       "26      The candy is just red , No flavor . Just  plan...  Not Frequent  \n",
       "27      I was so glad Amazon carried these batteries. ...  Not Frequent  \n",
       "31      This offer is a great price and a great taste,...  Not Frequent  \n",
       "...                                                   ...           ...  \n",
       "568384  Tasteless, bland, insipid - how many synonyms ...  Not Frequent  \n",
       "568405  The product arrived pretty quickly and was eas...  Not Frequent  \n",
       "568417  This is the best brand of Mango Chutney that I...  Not Frequent  \n",
       "568435  It is mostly broth, with the advertised 3/4 cu...  Not Frequent  \n",
       "568439  We need this for a recipe my wife is intereste...  Not Frequent  \n",
       "\n",
       "[77914 rows x 11 columns]"
      ]
     },
     "execution_count": 84,
     "metadata": {},
     "output_type": "execute_result"
    }
   ],
   "source": [
    "Not_freq_viewer"
   ]
  },
  {
   "cell_type": "code",
   "execution_count": 86,
   "id": "d7597724-3136-4b2f-8d48-01e30daecac1",
   "metadata": {},
   "outputs": [],
   "source": [
    "freq_viewer = data[data['Viewer_type']=='Frequent']"
   ]
  },
  {
   "cell_type": "code",
   "execution_count": 88,
   "id": "5281f15d-a5e5-48c7-be9d-5f271cf9f362",
   "metadata": {},
   "outputs": [
    {
     "data": {
      "text/html": [
       "<div>\n",
       "<style scoped>\n",
       "    .dataframe tbody tr th:only-of-type {\n",
       "        vertical-align: middle;\n",
       "    }\n",
       "\n",
       "    .dataframe tbody tr th {\n",
       "        vertical-align: top;\n",
       "    }\n",
       "\n",
       "    .dataframe thead th {\n",
       "        text-align: right;\n",
       "    }\n",
       "</style>\n",
       "<table border=\"1\" class=\"dataframe\">\n",
       "  <thead>\n",
       "    <tr style=\"text-align: right;\">\n",
       "      <th></th>\n",
       "      <th>Id</th>\n",
       "      <th>ProductId</th>\n",
       "      <th>UserId</th>\n",
       "      <th>ProfileName</th>\n",
       "      <th>HelpfulnessNumerator</th>\n",
       "      <th>HelpfulnessDenominator</th>\n",
       "      <th>Score</th>\n",
       "      <th>Time</th>\n",
       "      <th>Summary</th>\n",
       "      <th>Text</th>\n",
       "      <th>Viewer_type</th>\n",
       "    </tr>\n",
       "  </thead>\n",
       "  <tbody>\n",
       "    <tr>\n",
       "      <th>539</th>\n",
       "      <td>540</td>\n",
       "      <td>B000G6RYNE</td>\n",
       "      <td>A2A1XYSB692L6J</td>\n",
       "      <td>Patricia \"A Reader\"</td>\n",
       "      <td>1</td>\n",
       "      <td>3</td>\n",
       "      <td>5</td>\n",
       "      <td>2011-06-26</td>\n",
       "      <td>C H I P.....C H I P.....H O O R A Y....!!!!!  ...</td>\n",
       "      <td>I was getting VERY worried, when I read some o...</td>\n",
       "      <td>Frequent</td>\n",
       "    </tr>\n",
       "    <tr>\n",
       "      <th>2502</th>\n",
       "      <td>2503</td>\n",
       "      <td>B0004MZVIA</td>\n",
       "      <td>A2R6RA8FRBS608</td>\n",
       "      <td>Matthew G. Sherwin</td>\n",
       "      <td>3</td>\n",
       "      <td>6</td>\n",
       "      <td>5</td>\n",
       "      <td>2009-06-24</td>\n",
       "      <td>\"Yep--it's a diet !!!\"</td>\n",
       "      <td>This peach flavored diet tea by Snapple is ext...</td>\n",
       "      <td>Frequent</td>\n",
       "    </tr>\n",
       "    <tr>\n",
       "      <th>2612</th>\n",
       "      <td>2613</td>\n",
       "      <td>B0016FY6H6</td>\n",
       "      <td>A281NPSIMI1C2R</td>\n",
       "      <td>Rebecca of Amazon \"The Rebecca Review\"</td>\n",
       "      <td>7</td>\n",
       "      <td>8</td>\n",
       "      <td>5</td>\n",
       "      <td>2009-10-14</td>\n",
       "      <td>Very Reasonably Priced and Delicious</td>\n",
       "      <td>If you love green tea then you will be impress...</td>\n",
       "      <td>Frequent</td>\n",
       "    </tr>\n",
       "    <tr>\n",
       "      <th>2892</th>\n",
       "      <td>2893</td>\n",
       "      <td>B000F9Z1WI</td>\n",
       "      <td>A2R6RA8FRBS608</td>\n",
       "      <td>Matthew G. Sherwin</td>\n",
       "      <td>6</td>\n",
       "      <td>7</td>\n",
       "      <td>5</td>\n",
       "      <td>2007-02-25</td>\n",
       "      <td>The portable and edible Oreo</td>\n",
       "      <td>One reviewer writes that these are Oreo cracke...</td>\n",
       "      <td>Frequent</td>\n",
       "    </tr>\n",
       "    <tr>\n",
       "      <th>2989</th>\n",
       "      <td>2990</td>\n",
       "      <td>B0011X5S8Y</td>\n",
       "      <td>A1YUL9PCJR3JTY</td>\n",
       "      <td>O. Brown \"Ms. O. Khannah-Brown\"</td>\n",
       "      <td>1</td>\n",
       "      <td>2</td>\n",
       "      <td>4</td>\n",
       "      <td>2007-01-04</td>\n",
       "      <td>Fun, Intense Holiday Tea</td>\n",
       "      <td>****&lt;br /&gt;&lt;br /&gt;Celestial Seasonings' Sugar Pl...</td>\n",
       "      <td>Frequent</td>\n",
       "    </tr>\n",
       "    <tr>\n",
       "      <th>...</th>\n",
       "      <td>...</td>\n",
       "      <td>...</td>\n",
       "      <td>...</td>\n",
       "      <td>...</td>\n",
       "      <td>...</td>\n",
       "      <td>...</td>\n",
       "      <td>...</td>\n",
       "      <td>...</td>\n",
       "      <td>...</td>\n",
       "      <td>...</td>\n",
       "      <td>...</td>\n",
       "    </tr>\n",
       "    <tr>\n",
       "      <th>557972</th>\n",
       "      <td>557973</td>\n",
       "      <td>B000PP0WGM</td>\n",
       "      <td>A2A1XYSB692L6J</td>\n",
       "      <td>Patricia \"A Reader\"</td>\n",
       "      <td>5</td>\n",
       "      <td>6</td>\n",
       "      <td>1</td>\n",
       "      <td>2009-09-23</td>\n",
       "      <td>N O T......T H E......L I P T O N.......I........</td>\n",
       "      <td>THIS TEA PACKAGE, (Lipton Black Tea, 100% Natu...</td>\n",
       "      <td>Frequent</td>\n",
       "    </tr>\n",
       "    <tr>\n",
       "      <th>558570</th>\n",
       "      <td>558571</td>\n",
       "      <td>B000EMNKXS</td>\n",
       "      <td>A2R6RA8FRBS608</td>\n",
       "      <td>Matthew G. Sherwin</td>\n",
       "      <td>4</td>\n",
       "      <td>5</td>\n",
       "      <td>5</td>\n",
       "      <td>2007-07-28</td>\n",
       "      <td>French Vanilla Coffee-mate...oooh la la !!!</td>\n",
       "      <td>French vanilla flavored Coffee-mate makes for ...</td>\n",
       "      <td>Frequent</td>\n",
       "    </tr>\n",
       "    <tr>\n",
       "      <th>558748</th>\n",
       "      <td>558749</td>\n",
       "      <td>B000F6WRYG</td>\n",
       "      <td>A281NPSIMI1C2R</td>\n",
       "      <td>Rebecca of Amazon \"The Rebecca Review\"</td>\n",
       "      <td>3</td>\n",
       "      <td>7</td>\n",
       "      <td>3</td>\n",
       "      <td>2006-08-20</td>\n",
       "      <td>Rose Scented Tea</td>\n",
       "      <td>\"The Passion of this blend will enhance any en...</td>\n",
       "      <td>Frequent</td>\n",
       "    </tr>\n",
       "    <tr>\n",
       "      <th>559249</th>\n",
       "      <td>559250</td>\n",
       "      <td>B000E682EG</td>\n",
       "      <td>A2R6RA8FRBS608</td>\n",
       "      <td>Matthew G. Sherwin</td>\n",
       "      <td>1</td>\n",
       "      <td>2</td>\n",
       "      <td>5</td>\n",
       "      <td>2006-08-31</td>\n",
       "      <td>A really nice way to start your day, take a br...</td>\n",
       "      <td>This tea provides a luscious and refreshing br...</td>\n",
       "      <td>Frequent</td>\n",
       "    </tr>\n",
       "    <tr>\n",
       "      <th>560760</th>\n",
       "      <td>560761</td>\n",
       "      <td>B000E6LBXK</td>\n",
       "      <td>A2R6RA8FRBS608</td>\n",
       "      <td>Matthew G. Sherwin</td>\n",
       "      <td>3</td>\n",
       "      <td>4</td>\n",
       "      <td>4</td>\n",
       "      <td>2010-01-20</td>\n",
       "      <td>very good--but watch those carbohydrates if yo...</td>\n",
       "      <td>Splenda is a wonderful sweetener for beverages...</td>\n",
       "      <td>Frequent</td>\n",
       "    </tr>\n",
       "  </tbody>\n",
       "</table>\n",
       "<p>306 rows × 11 columns</p>\n",
       "</div>"
      ],
      "text/plain": [
       "            Id   ProductId          UserId  \\\n",
       "539        540  B000G6RYNE  A2A1XYSB692L6J   \n",
       "2502      2503  B0004MZVIA  A2R6RA8FRBS608   \n",
       "2612      2613  B0016FY6H6  A281NPSIMI1C2R   \n",
       "2892      2893  B000F9Z1WI  A2R6RA8FRBS608   \n",
       "2989      2990  B0011X5S8Y  A1YUL9PCJR3JTY   \n",
       "...        ...         ...             ...   \n",
       "557972  557973  B000PP0WGM  A2A1XYSB692L6J   \n",
       "558570  558571  B000EMNKXS  A2R6RA8FRBS608   \n",
       "558748  558749  B000F6WRYG  A281NPSIMI1C2R   \n",
       "559249  559250  B000E682EG  A2R6RA8FRBS608   \n",
       "560760  560761  B000E6LBXK  A2R6RA8FRBS608   \n",
       "\n",
       "                                   ProfileName  HelpfulnessNumerator  \\\n",
       "539                        Patricia \"A Reader\"                     1   \n",
       "2502                        Matthew G. Sherwin                     3   \n",
       "2612    Rebecca of Amazon \"The Rebecca Review\"                     7   \n",
       "2892                        Matthew G. Sherwin                     6   \n",
       "2989           O. Brown \"Ms. O. Khannah-Brown\"                     1   \n",
       "...                                        ...                   ...   \n",
       "557972                     Patricia \"A Reader\"                     5   \n",
       "558570                      Matthew G. Sherwin                     4   \n",
       "558748  Rebecca of Amazon \"The Rebecca Review\"                     3   \n",
       "559249                      Matthew G. Sherwin                     1   \n",
       "560760                      Matthew G. Sherwin                     3   \n",
       "\n",
       "        HelpfulnessDenominator  Score       Time  \\\n",
       "539                          3      5 2011-06-26   \n",
       "2502                         6      5 2009-06-24   \n",
       "2612                         8      5 2009-10-14   \n",
       "2892                         7      5 2007-02-25   \n",
       "2989                         2      4 2007-01-04   \n",
       "...                        ...    ...        ...   \n",
       "557972                       6      1 2009-09-23   \n",
       "558570                       5      5 2007-07-28   \n",
       "558748                       7      3 2006-08-20   \n",
       "559249                       2      5 2006-08-31   \n",
       "560760                       4      4 2010-01-20   \n",
       "\n",
       "                                                  Summary  \\\n",
       "539     C H I P.....C H I P.....H O O R A Y....!!!!!  ...   \n",
       "2502                               \"Yep--it's a diet !!!\"   \n",
       "2612                 Very Reasonably Priced and Delicious   \n",
       "2892                         The portable and edible Oreo   \n",
       "2989                             Fun, Intense Holiday Tea   \n",
       "...                                                   ...   \n",
       "557972  N O T......T H E......L I P T O N.......I........   \n",
       "558570        French Vanilla Coffee-mate...oooh la la !!!   \n",
       "558748                                   Rose Scented Tea   \n",
       "559249  A really nice way to start your day, take a br...   \n",
       "560760  very good--but watch those carbohydrates if yo...   \n",
       "\n",
       "                                                     Text Viewer_type  \n",
       "539     I was getting VERY worried, when I read some o...    Frequent  \n",
       "2502    This peach flavored diet tea by Snapple is ext...    Frequent  \n",
       "2612    If you love green tea then you will be impress...    Frequent  \n",
       "2892    One reviewer writes that these are Oreo cracke...    Frequent  \n",
       "2989    ****<br /><br />Celestial Seasonings' Sugar Pl...    Frequent  \n",
       "...                                                   ...         ...  \n",
       "557972  THIS TEA PACKAGE, (Lipton Black Tea, 100% Natu...    Frequent  \n",
       "558570  French vanilla flavored Coffee-mate makes for ...    Frequent  \n",
       "558748  \"The Passion of this blend will enhance any en...    Frequent  \n",
       "559249  This tea provides a luscious and refreshing br...    Frequent  \n",
       "560760  Splenda is a wonderful sweetener for beverages...    Frequent  \n",
       "\n",
       "[306 rows x 11 columns]"
      ]
     },
     "execution_count": 88,
     "metadata": {},
     "output_type": "execute_result"
    }
   ],
   "source": [
    "freq_viewer"
   ]
  },
  {
   "cell_type": "code",
   "execution_count": 92,
   "id": "30d5ba95-937d-4aa9-8839-0a9b9ceb6dd6",
   "metadata": {},
   "outputs": [
    {
     "data": {
      "text/plain": [
       "Score\n",
       "5    188\n",
       "4     59\n",
       "3     45\n",
       "2      7\n",
       "1      7\n",
       "Name: count, dtype: int64"
      ]
     },
     "execution_count": 92,
     "metadata": {},
     "output_type": "execute_result"
    }
   ],
   "source": [
    "freq_viewer['Score'].value_counts()"
   ]
  },
  {
   "cell_type": "code",
   "execution_count": 94,
   "id": "6980ee19-c924-42f0-8be8-9e844780acbc",
   "metadata": {},
   "outputs": [
    {
     "data": {
      "text/plain": [
       "Score\n",
       "5    30593\n",
       "1    19555\n",
       "3     9660\n",
       "4     9363\n",
       "2     8743\n",
       "Name: count, dtype: int64"
      ]
     },
     "execution_count": 94,
     "metadata": {},
     "output_type": "execute_result"
    }
   ],
   "source": [
    "Not_freq_viewer['Score'].value_counts()"
   ]
  },
  {
   "cell_type": "code",
   "execution_count": 96,
   "id": "68d7a4d9-7da4-4e59-bd30-1c68da2a3b3d",
   "metadata": {},
   "outputs": [
    {
     "data": {
      "text/plain": [
       "<Axes: xlabel='Score'>"
      ]
     },
     "execution_count": 96,
     "metadata": {},
     "output_type": "execute_result"
    },
    {
     "data": {
      "image/png": "[encoded data removed]",
      "text/plain": [
       "<Figure size 640x480 with 1 Axes>"
      ]
     },
     "metadata": {},
     "output_type": "display_data"
    }
   ],
   "source": [
    "freq_viewer['Score'].value_counts().plot()"
   ]
  },
  {
   "cell_type": "code",
   "execution_count": 98,
   "id": "c5d82346-02c1-4fc1-8e24-f1e38e70b4ad",
   "metadata": {},
   "outputs": [
    {
     "data": {
      "text/plain": [
       "<Axes: xlabel='Score'>"
      ]
     },
     "execution_count": 98,
     "metadata": {},
     "output_type": "execute_result"
    },
    {
     "data": {
      "image/png": "[encoded data removed]",
      "text/plain": [
       "<Figure size 640x480 with 1 Axes>"
      ]
     },
     "metadata": {},
     "output_type": "display_data"
    }
   ],
   "source": [
    "freq_viewer['Score'].value_counts().plot(kind='bar')"
   ]
  },
  {
   "cell_type": "code",
   "execution_count": 102,
   "id": "0a7dcfdf-d5b4-4431-9b97-aba7d9cec0f3",
   "metadata": {},
   "outputs": [
    {
     "data": {
      "text/plain": [
       "Score\n",
       "5    61.437908\n",
       "4    19.281046\n",
       "3    14.705882\n",
       "2     2.287582\n",
       "1     2.287582\n",
       "Name: count, dtype: float64"
      ]
     },
     "execution_count": 102,
     "metadata": {},
     "output_type": "execute_result"
    }
   ],
   "source": [
    "freq_viewer['Score'].value_counts()/len(freq_viewer)*100"
   ]
  },
  {
   "cell_type": "code",
   "execution_count": 104,
   "id": "38ba7d9e-544f-4e0e-9e57-e3a0f1ffa94c",
   "metadata": {},
   "outputs": [
    {
     "data": {
      "text/plain": [
       "Score\n",
       "5    39.265087\n",
       "1    25.098185\n",
       "3    12.398285\n",
       "4    12.017096\n",
       "2    11.221347\n",
       "Name: count, dtype: float64"
      ]
     },
     "execution_count": 104,
     "metadata": {},
     "output_type": "execute_result"
    }
   ],
   "source": [
    "Not_freq_viewer['Score'].value_counts()/len(Not_freq_viewer)*100"
   ]
  },
  {
   "cell_type": "code",
   "execution_count": null,
   "id": "fd842e5f-1075-46ff-9eff-862853a22263",
   "metadata": {},
   "outputs": [],
   "source": []
  }
 ],
 "metadata": {
  "kernelspec": {
   "display_name": "Python [conda env:base] *",
   "language": "python",
   "name": "conda-base-py"
  },
  "language_info": {
   "codemirror_mode": {
    "name": "ipython",
    "version": 3
   },
   "file_extension": ".py",
   "mimetype": "text/x-python",
   "name": "python",
   "nbconvert_exporter": "python",
   "pygments_lexer": "ipython3",
   "version": "3.12.7"
  }
 },
 "nbformat": 4,
 "nbformat_minor": 5
}
